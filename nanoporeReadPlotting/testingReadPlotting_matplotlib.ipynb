{
 "cells": [
  {
   "cell_type": "code",
   "source": [
    "import numpy as np\n",
    "import pandas as pd\n",
    "from tqdm import tqdm\n",
    "pd.set_option('display.width', 100)\n",
    "pd.set_option('display.max_columns', None)\n",
    "\n",
    "import re\n",
    "\n",
    "import seaborn as sea\n",
    "import matplotlib.pyplot as plt\n",
    "\n",
    "from nanoporePipelineCommon import *\n",
    "\n",
    "print(\"imports done\")"
   ],
   "metadata": {
    "collapsed": false,
    "pycharm": {
     "name": "#%%\n"
    }
   },
   "outputs": [],
   "execution_count": null
  },
  {
   "cell_type": "code",
   "source": [
    "reads_df_genes_raw, compressed_df_genes_raw = load_and_merge_lib_parquets([\"xrn-1-5tera\", \"xrn-1-5tera-smg-6\"], drop_sub_n=1, add_tail_groupings=False, drop_failed_polya=False, group_by_t5=True)\n",
    "print(\"library load done.\")"
   ],
   "metadata": {
    "collapsed": false,
    "pycharm": {
     "name": "#%%\n"
    }
   },
   "outputs": [],
   "execution_count": null
  },
  {
   "cell_type": "code",
   "source": [
    "reads_df = reads_df_genes_raw.copy()\n",
    "compressed_df = compressed_df_genes_raw.copy()"
   ],
   "metadata": {
    "collapsed": false,
    "pycharm": {
     "name": "#%%\n"
    }
   },
   "outputs": [],
   "execution_count": null
  },
  {
   "cell_type": "code",
   "source": [
    "from matplotlib.collections import PatchCollection\n",
    "from matplotlib.patches import Rectangle\n",
    "\n",
    "def _make_rectangle_patch(genome_start, length, y_center, thickness, color='gray'):\n",
    "    return Rectangle((genome_start, y_center-(thickness/2)), length, thickness,\n",
    "                     facecolor=color,\n",
    "                     edgecolor=color,\n",
    "                     fill=True,\n",
    "                     lw=0)\n",
    "\n",
    "def _add_patches_from_cigars_and_gen_pos(axes, cigar, gen_start, y, color='black', tail_length=None):\n",
    "    # Parse the cigar string\n",
    "    parsed_cigar = re.findall(rf'(\\d+)([MDNSIX])', cigar)\n",
    "    mdn_nums = [int(num) for num, char in parsed_cigar if char in \"MDN\"]\n",
    "    read_end = gen_start + sum(mdn_nums)\n",
    "    \n",
    "    genome_loc = gen_start\n",
    "    \n",
    "    rectangle_patch_list = []\n",
    "    first_n_length = 0\n",
    "    for length, code in parsed_cigar:\n",
    "        length = int(length)\n",
    "        if code == 'S':\n",
    "            if len(rectangle_patch_list) == 0:\n",
    "                # genome_loc += length  # <- this was dumb and wrong...\n",
    "                pass\n",
    "        elif code == 'M':\n",
    "            rectangle_patch_list.append(_make_rectangle_patch(genome_loc, length, y, thickness=0.8))\n",
    "            genome_loc += length\n",
    "        elif code == 'D':\n",
    "            if length < 50:\n",
    "                rectangle_patch_list.append(_make_rectangle_patch(genome_loc, length, y, thickness=0.8))\n",
    "            else:\n",
    "                rectangle_patch_list.append(_make_rectangle_patch(genome_loc, length, y, thickness=0.001))\n",
    "            genome_loc += length\n",
    "        elif code == 'I':\n",
    "            pass\n",
    "        elif code == 'N':\n",
    "            if first_n_length == 0:\n",
    "                first_n_length = length\n",
    "                # print(f\"First N of length {length}, starting at {genome_loc}\")\n",
    "            rectangle_patch_list.append(_make_rectangle_patch(genome_loc, length, y, thickness=0.001))\n",
    "            genome_loc += length\n",
    "    if read_end - gen_start < 1500:\n",
    "        axes.add_collection(PatchCollection(rectangle_patch_list, color=color))\n",
    "        if isinstance(tail_length, float):\n",
    "            axes.add_patch(_make_rectangle_patch(genome_loc, tail_length, y, thickness=0.4, color='green'))\n",
    "            genome_loc += tail_length\n",
    "        return read_end - gen_start, first_n_length\n",
    "    else:\n",
    "        return None\n",
    "\n",
    "def _row_apply_plot_cigar(row, axes):\n",
    "    index = row.name\n",
    "    cigar = row.cigar\n",
    "    gen_start = row.chr_pos\n",
    "    is_adapted = row.t5\n",
    "    polya_length = row.polya_length\n",
    "    \n",
    "    if is_adapted == '-':\n",
    "        color='black'\n",
    "    else:\n",
    "        color='red'\n",
    "    return _add_patches_from_cigars_and_gen_pos(axes, cigar, gen_start, index, color=color, tail_length=polya_length)"
   ],
   "metadata": {
    "collapsed": false,
    "pycharm": {
     "name": "#%%\n"
    }
   },
   "outputs": [],
   "execution_count": null
  },
  {
   "cell_type": "code",
   "source": [
    "def plot_reads(gene_of_interest, reads_df, save_dir=None, save_suffix=\"\", t5_pos_count=10, t5_neg_count=25, plot_width_and_height=(25,5), subsample_fraction=0.05):\n",
    "    subsampled_reads_df = reads_df.sample(n=subsample_fraction)\n",
    "    all_gene_reads = subsampled_reads_df.query(f\"gene_name == '{gene_of_interest}'\")\n",
    "    gene_df_t5_pos = all_gene_reads.query(\"t5 == '+'\")  #.sample(t5_pos_count)\n",
    "    gene_df_t5_neg = all_gene_reads.query(\"t5 == '-'\")  #.sample(t5_neg_count)\n",
    "    gene_df = pd.concat([gene_df_t5_pos, gene_df_t5_neg])\n",
    "    \n",
    "    gene_df = gene_df.sort_values([\"t5\", \"chr_pos\", \"read_length\"], ascending=False).reset_index(drop=True)\n",
    "    \n",
    "    plt.style.use('default')\n",
    "    fig, ax = plt.subplots()\n",
    "    tqdm.pandas(desc=\"First pass to extract the length of the first intron called\")\n",
    "    gene_df[['genomic_read_length', 'first_n_length']] = gene_df.progress_apply(lambda row: _row_apply_plot_cigar(row, ax), axis=1, result_type='expand')\n",
    "    fig, ax = None, None\n",
    "    \n",
    "    plt.style.use('default')\n",
    "    fig, ax = plt.subplots(figsize=plot_width_and_height)\n",
    "    \n",
    "    tqdm.pandas(desc=\"Second pass to actually plot everything\")\n",
    "    gene_df = gene_df.sort_values([\"t5\", \"first_n_length\", \"chr_pos\"], ascending=[False, False, False]).reset_index(drop=True)\n",
    "    gene_df.progress_apply(lambda row: _row_apply_plot_cigar(row, ax), axis=1, result_type='expand')\n",
    "\n",
    "    \n",
    "    \n",
    "    \n",
    "    number_of_plotted_reads = gene_df.shape[0]\n",
    "    ax.set_ylim(-1, number_of_plotted_reads)\n",
    "    \n",
    "    if number_of_plotted_reads < 50:\n",
    "        num_long_reads_to_check = 1\n",
    "    else:\n",
    "        num_long_reads_to_check = int(number_of_plotted_reads/10)\n",
    "    \n",
    "    min_genomic_start = gene_df.chr_pos.min()\n",
    "    max_genomic_length = gene_df.nlargest(num_long_reads_to_check, 'genomic_read_length').genomic_read_length.min()\n",
    "    \n",
    "    ax.set_xlim(min_genomic_start-25, min_genomic_start+max_genomic_length+100)\n",
    "    # ax.set_xlim(min_genomic_start, min_genomic_start+300)\n",
    "    \n",
    "    plt.xticks([])\n",
    "    plt.yticks([])\n",
    "    if isinstance(save_dir, str):\n",
    "        save_path = f\"{save_dir}/{get_dt(for_file=True)}_{gene_of_interest}{save_suffix}\"\n",
    "        print(f\"Saving plot to {save_path} + .png/.svg...\")\n",
    "        plt.savefig(save_path + \".svg\")\n",
    "        plt.savefig(save_path + \".png\")\n",
    "    # plt.show()\n",
    "    return gene_df"
   ],
   "metadata": {
    "collapsed": false,
    "pycharm": {
     "name": "#%%\n"
    }
   },
   "outputs": [],
   "execution_count": null
  },
  {
   "cell_type": "code",
   "source": [
    "fraction = 400000\n",
    "for i in range(1):\n",
    "    df1 = plot_reads(\"ubl-1\", reads_df.query(\"lib == 'xrn-1-5tera'\"), save_dir=\"./outputDir\", save_suffix=f\"_wt_{i+1}\", subsample_fraction=fraction)\n",
    "    # df2 = plot_reads(\"ubl-1\", reads_df.query(\"lib != 'xrn-1-5tera'\"), save_dir=\"./outputDir\", save_suffix=f\"_smg-6_{i+1}\", t5_pos_count=2, subsample_fraction=fraction)"
   ],
   "metadata": {
    "collapsed": false,
    "pycharm": {
     "name": "#%%\n"
    }
   },
   "outputs": [],
   "execution_count": null
  },
  {
   "cell_type": "code",
   "source": [],
   "metadata": {
    "collapsed": false,
    "pycharm": {
     "name": "#%%\n"
    }
   },
   "outputs": [],
   "execution_count": null
  }
 ],
 "metadata": {
  "kernelspec": {
   "display_name": "Python 3",
   "language": "python",
   "name": "python3"
  },
  "language_info": {
   "codemirror_mode": {
    "name": "ipython",
    "version": 2
   },
   "file_extension": ".py",
   "mimetype": "text/x-python",
   "name": "python",
   "nbconvert_exporter": "python",
   "pygments_lexer": "ipython2",
   "version": "2.7.6"
  }
 },
 "nbformat": 4,
 "nbformat_minor": 0
}
