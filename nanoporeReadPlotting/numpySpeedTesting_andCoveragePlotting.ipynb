{
 "cells": [
  {
   "cell_type": "code",
   "metadata": {
    "collapsed": true
   },
   "source": [
    "import numpy as np\n",
    "import pandas as pd\n",
    "import re\n",
    "import sys\n",
    "sys.path.insert(0, '/data16/marcus/scripts/nanoporePipelineScripts')\n",
    "from nanoporePipelineCommon import *"
   ],
   "outputs": [],
   "execution_count": null
  },
  {
   "cell_type": "code",
   "source": [
    "from tqdm.notebook import tqdm\n",
    "bam_path = pick_lib_return_path(\"xrn-1-5tera-smg-6\",\n",
    "                                output_dir_folder=\"cat_files\",\n",
    "                                file_midfix=\"cat.sorted.mappedAndPrimary\",\n",
    "                                file_suffix=\"bam\",\n",
    "                                )\n",
    "bam_df = SamOrBamFile(bam_path,\n",
    "                      ).df\n",
    "print(\"library loading done!\")"
   ],
   "metadata": {
    "collapsed": false
   },
   "outputs": [],
   "execution_count": null
  },
  {
   "cell_type": "code",
   "source": [
    "# DO NOT USE THIS TECHNIQUE! The other is worlds faster\n",
    "def array_for_each_read(cigars_and_genomic_starts, chr_length) -> np.array:  # DO NOT USE THIS\n",
    "    coverage_array = np.zeros([chr_length], dtype=np.uint32)\n",
    "    cigar_parsing_iterator = tqdm(cigars_and_genomic_starts, desc=f\"Building coverage by making sub arrays\")\n",
    "    for cigar, genomic_start in cigar_parsing_iterator:\n",
    "        genomic_pos = genomic_start\n",
    "        parsed_cigar = re.findall(rf'(\\d+)([MDNSIX])', cigar)\n",
    "        parsed_cigar = [(int(length), code) for (length, code) in parsed_cigar]\n",
    "    \n",
    "        read_coverage_array = np.zeros([chr_length], dtype=np.uint32)\n",
    "    \n",
    "        for length, code in parsed_cigar:\n",
    "            if code in ['N', 'D']:\n",
    "                genomic_pos += length\n",
    "            elif code in ['M']:\n",
    "                read_coverage_array[genomic_pos:genomic_pos + length] = 1\n",
    "                genomic_pos += length\n",
    "        coverage_array += read_coverage_array\n",
    "    return coverage_array\n",
    "\n",
    "\n",
    "def _add_to_main_array_for_each_read(cigars_and_genomic_starts, chr_length, count_Ds_as_maps=False) -> np.array:\n",
    "    coverage_array = np.zeros([chr_length], dtype=np.uint32)\n",
    "    cigar_parsing_iterator = tqdm(cigars_and_genomic_starts, desc=f\"Building coverage by adding to main array\")\n",
    "    \n",
    "    gaps = ['N']  # introns\n",
    "    maps = ['M']  # mapped segments\n",
    "    if count_Ds_as_maps:\n",
    "        maps.append('D')\n",
    "    else:\n",
    "        gaps.append('D')\n",
    "    for cigar, genomic_start in cigar_parsing_iterator:\n",
    "        genomic_pos = genomic_start\n",
    "        parsed_cigar = re.findall(rf'(\\d+)([MDNSIX])', cigar)\n",
    "        parsed_cigar = [(int(length), code) for (length, code) in parsed_cigar]\n",
    "    \n",
    "        for length, code in parsed_cigar:\n",
    "            if code in gaps:\n",
    "                genomic_pos += length\n",
    "            elif code in maps:  # TODO: the D \"belongs\" above, but not yet...\n",
    "                coverage_array[genomic_pos:genomic_pos + length] += 1\n",
    "                genomic_pos += length\n",
    "    return coverage_array\n",
    "\n",
    "\n",
    "def _run_coverage_calc(bam_df, chrs=(\"I\", \"II\", \"III\", \"IV\", \"V\", \"MtDNA\"), count_Ds_as_maps=False):\n",
    "    if \"original_chr_pos\" in bam_df.columns:\n",
    "        gen_pos_col = \"original_chr_pos\"\n",
    "    else:\n",
    "        gen_pos_col = \"chr_pos\"\n",
    "    \n",
    "    # These are actually annotation ends:\n",
    "    chr_max_length_dict = {'I': 15072426,\n",
    "                           'II': 15279420,\n",
    "                           'III': 13783459,\n",
    "                           'IV': 17493829,\n",
    "                           'V': 20922738,\n",
    "                           'MtDNA': 13327}\n",
    "    # Because of some python weirdness, we need to turn single chromosomes into lists!\n",
    "    if not isinstance(chrs, (list, tuple)):\n",
    "        chrs = [chrs]\n",
    "    \n",
    "    # First filter the chr dict, so we only use the ones that showed up in the method call:\n",
    "    chr_max_length_dict = {chromosome: length for chromosome, length\n",
    "                           in chr_max_length_dict.items()\n",
    "                           if chromosome in chrs}\n",
    "    array_dict = {}\n",
    "    for chromosome, chr_length in chr_max_length_dict.items():\n",
    "        print(f\"Starting to build coverage array for chromosome: {chromosome}\")\n",
    "        chr_df = bam_df.query(f\"chr_id == '{chromosome}'\")\n",
    "        cigars_and_genomic_start_positions = list(zip(chr_df.cigar.to_list(), chr_df[gen_pos_col].to_list()))\n",
    "        coverage_array = _add_to_main_array_for_each_read(cigars_and_genomic_start_positions, chr_length, count_Ds_as_maps=count_Ds_as_maps)\n",
    "        array_dict[chromosome] = coverage_array\n",
    "    return array_dict"
   ],
   "metadata": {
    "collapsed": false
   },
   "outputs": [],
   "execution_count": null
  },
  {
   "cell_type": "code",
   "source": [
    "# coverage_dict_adapted = _run_coverage_calc(bam_df, technique_method=_add_to_main_array_for_each_read)\n",
    "coverage_dict_adapted = _run_coverage_calc(bam_df.query(\"t5 == '+'\"), technique_method=_add_to_main_array_for_each_read)\n",
    "coverage_dict_unadapted = _run_coverage_calc(bam_df.query(\"t5 == '-'\"), technique_method=_add_to_main_array_for_each_read)"
   ],
   "metadata": {
    "collapsed": false
   },
   "outputs": [],
   "execution_count": null
  },
  {
   "cell_type": "markdown",
   "source": [
    "HOLY CRAP! Adding to the main array rather than building sub-arrays and combining is SOOOOO much faster it's crazy\n",
    "Can do a quart million reads in ~25 seconds"
   ],
   "metadata": {
    "collapsed": false
   }
  },
  {
   "cell_type": "code",
   "source": [
    "# import matplotlib.pyplot as plt\n",
    "# \n",
    "# fig, ax = plt.subplots(len(coverage_dict), 1,\n",
    "#                        figsize=(20,10),\n",
    "#                        # sharex=True,\n",
    "#                        )\n",
    "# plt.style.use(\"seaborn-paper\")\n",
    "# \n",
    "# for i, (chromosome, coverage_array) in enumerate(coverage_dict.items()):\n",
    "#     print(f\"Generating subfigure for chromosome: {chromosome}\")\n",
    "#     y1 = coverage_array\n",
    "#     # x = np.arange(len(coverage_array))\n",
    "#     # y0 = np.zeros(len(coverage_array))\n",
    "#     ax[i].plot(y1, drawstyle=\"steps-pre\")\n",
    "#     ax[i].set_ylabel(f\"Chr: {chromosome}\")\n",
    "#     # ax[i].set_yscale(\"log\")\n",
    "# plt.tight_layout()\n",
    "# plt.style.use(\"seaborn-paper\")\n",
    "# # plt.savefig(f\"./outputDir/{get_dt(for_file=True)}_wholeGenomeCoverage.png\")\n",
    "# plt.show()"
   ],
   "metadata": {
    "collapsed": false
   },
   "outputs": [],
   "execution_count": null
  },
  {
   "cell_type": "markdown",
   "source": [
    "# Do this with a single gene locus"
   ],
   "metadata": {
    "collapsed": false
   }
  },
  {
   "cell_type": "code",
   "source": [
    "def _get_gene_coordinates(gene_id=None, gene_name=None, parsed_gtf_path=\"/data16/marcus/genomes/elegansRelease100/Caenorhabditis_elegans.WBcel235.100.gtf.parquet\") -> (str, int, int):\n",
    "    # First make sure we got something to look up:\n",
    "    gene_id_bool = isinstance(gene_id, str)\n",
    "    gene_name_bool = isinstance(gene_name, str)\n",
    "    if not gene_id_bool and not gene_name_bool:\n",
    "        raise NotImplementedError(f\"Please pass a gene_id or a gene_name!\")\n",
    "    # Load the parsed gtf_file\n",
    "    try:\n",
    "        gtf_df = pd.read_parquet(parsed_gtf_path)[[\"gene_id\", \"gene_name\", \"feature\", \"chr\", \"start\", \"end\"]].query(\"feature == 'gene'\")\n",
    "    except FileNotFoundError:\n",
    "        raise FileNotFoundError(f\"Please make sure there is a parsed gtf file at: {parsed_gtf_path}\")\n",
    "    \n",
    "    # Get the gene of interest!\n",
    "    try:\n",
    "        if gene_id_bool:\n",
    "            entry_of_interest = gtf_df.query(f\"gene_id == '{gene_id}'\").reset_index(drop=True).iloc[0].to_dict()\n",
    "            gene_name = entry_of_interest[\"gene_name\"]\n",
    "        else:  # if gene_name_bool\n",
    "            entry_of_interest = gtf_df.query(f\"gene_name == '{gene_name}'\").reset_index(drop=True).iloc[0].to_dict()\n",
    "            gene_id = entry_of_interest[\"gene_id\"]\n",
    "    except IndexError:\n",
    "        raise IndexError(f\"Gene of interest (gene_id: {gene_id} / gene_name: {gene_name}) not found!\")\n",
    "    chromosome = entry_of_interest[\"chr\"]\n",
    "    start = entry_of_interest[\"start\"]\n",
    "    end = entry_of_interest[\"end\"]\n",
    "    print(f\"Found entry for {gene_name} ({gene_id}) on chromosome {chromosome:>5} at ({start}, {end})\")\n",
    "    return chromosome, start, end"
   ],
   "metadata": {
    "collapsed": false
   },
   "outputs": [],
   "execution_count": null
  },
  {
   "cell_type": "code",
   "source": [
    "bam_wt_path = pick_lib_return_path(\"xrn-1-5tera\",\n",
    "                                output_dir_folder=\"cat_files\",\n",
    "                                file_midfix=\"cat.sorted.mappedAndPrimary\",\n",
    "                                file_suffix=\"bam\",\n",
    "                                )\n",
    "bam_wt_df = SamOrBamFile(bam_wt_path,\n",
    "                      ).df\n",
    "print(\"library loading done!\")"
   ],
   "metadata": {
    "collapsed": false
   },
   "outputs": [],
   "execution_count": null
  },
  {
   "cell_type": "code",
   "source": [
    "# import matplotlib.pyplot as plt\n",
    "# target_gene_name = \"ubl-1\"\n",
    "# target_gene_chr, target_start, target_end = _get_gene_coordinates(gene_name=target_gene_name)\n",
    "# target_chr_array_ad = _run_coverage_calc(bam_df.query(\"t5 == '+'\"), chrs=target_gene_chr)[target_gene_chr]\n",
    "# target_chr_array_unad = _run_coverage_calc(bam_df.query(\"t5 == '-'\"), chrs=target_gene_chr)[target_gene_chr]\n",
    "# target_locus_array_ad = target_chr_array_ad[target_start: target_end]\n",
    "# target_locus_array_unad = target_chr_array_unad[target_start: target_end]\n",
    "# \n",
    "# index_array = np.arange(len(target_locus_array_ad))\n",
    "# zeros_array = np.zeros(len(target_locus_array_ad))\n",
    "# \n",
    "# fig, ax = plt.subplots(2, 1,\n",
    "#                        figsize=(20,10),\n",
    "#                        sharex=True,\n",
    "#                        gridspec_kw={\"height_ratios\": [1,4]}\n",
    "#                        )\n",
    "# \n",
    "# ax[1].fill_between(index_array, zeros_array, target_locus_array_unad, color='black')\n",
    "# ax[0].fill_between(index_array, zeros_array, target_locus_array_ad, color='red')\n",
    "# \n",
    "# plt.tight_layout()\n",
    "# plt.style.use(\"seaborn-paper\")\n",
    "# plt.savefig(f\"./outputDir/{get_dt(for_file=True)}_{target_gene_name}_coverage.svg\")\n",
    "# plt.show()"
   ],
   "metadata": {
    "collapsed": false
   },
   "outputs": [],
   "execution_count": null
  },
  {
   "cell_type": "code",
   "source": [
    "import matplotlib.pyplot as plt\n",
    "def coverage_plotting_5tera(bam_df_for_plot, gene_name, save_as=None, count_Ds_as_maps=False, rpm_normalize=False):\n",
    "    gene_chr, start, end = _get_gene_coordinates(gene_name=gene_name)\n",
    "    chr_array_ad = _run_coverage_calc(bam_df_for_plot.query(\"t5 == '+'\"), chrs=gene_chr, count_Ds_as_maps=count_Ds_as_maps)[gene_chr]\n",
    "    chr_array_unad = _run_coverage_calc(bam_df_for_plot.query(\"t5 == '-'\"), chrs=gene_chr, count_Ds_as_maps=count_Ds_as_maps)[gene_chr]\n",
    "    locus_array_ad = chr_array_ad[start: end]\n",
    "    locus_array_unad = chr_array_unad[start: end]\n",
    "    if rpm_normalize:\n",
    "        norm_factor = bam_df_for_plot.shape[0]\n",
    "        # Turn the total number of read hits into the 'million of read hits'\n",
    "        rpm_norm_factor = norm_factor / 1000000\n",
    "        locus_array_ad = np.divide(locus_array_ad, rpm_norm_factor)\n",
    "        locus_array_unad = np.divide(locus_array_unad, rpm_norm_factor)\n",
    "    \n",
    "    index_array = np.arange(len(locus_array_ad))\n",
    "    zeros_array = np.zeros(len(locus_array_ad))\n",
    "    \n",
    "    fig, ax = plt.subplots(2, 1,\n",
    "                           figsize=(8,4),\n",
    "                           sharex=True,\n",
    "                           gridspec_kw={\"height_ratios\": [1,4]}\n",
    "                           )\n",
    "    \n",
    "    ax[1].fill_between(index_array, zeros_array, locus_array_unad, color='black')\n",
    "    ax[0].fill_between(index_array, zeros_array, locus_array_ad, color='red')\n",
    "    \n",
    "    plt.tight_layout()\n",
    "    plt.style.use(\"seaborn-paper\")\n",
    "    if isinstance(save_as, str):\n",
    "        plt.savefig(save_as)\n",
    "    plt.show()"
   ],
   "metadata": {
    "collapsed": false
   },
   "outputs": [],
   "execution_count": null
  },
  {
   "cell_type": "code",
   "source": [
    "reads_df_genes_raw, compressed_df_genes_raw = load_and_merge_lib_parquets([\"xrn-1-5tera\", \"xrn-1-5tera-smg-6\"], drop_sub_n=1, add_tail_groupings=False, drop_failed_polya=False, group_by_t5=True)\n",
    "reads_df, compressed_df = reads_df_genes_raw.copy(), compressed_df_genes_raw.copy()\n",
    "print(\"Done!\")"
   ],
   "metadata": {
    "collapsed": false
   },
   "outputs": [],
   "execution_count": null
  },
  {
   "cell_type": "code",
   "source": [
    "gene_of_interest = \"tba-1\"\n",
    "\n",
    "coverage_plotting_5tera(reads_df.query(\"lib == 'xrn-1-5tera'\"), gene_name=gene_of_interest,  count_Ds_as_maps=True, rpm_normalize=True)\n",
    "coverage_plotting_5tera(reads_df.query(\"lib == 'xrn-1-5tera-smg-6'\"), gene_name=gene_of_interest,  count_Ds_as_maps=True, rpm_normalize=True)"
   ],
   "metadata": {
    "collapsed": false
   },
   "outputs": [],
   "execution_count": null
  },
  {
   "cell_type": "code",
   "source": [
    "np.divide(np.array([125415, 1515, 15, 15225], dtype=np.uint32), 500)"
   ],
   "metadata": {
    "collapsed": false
   },
   "outputs": [],
   "execution_count": null
  },
  {
   "cell_type": "code",
   "source": [],
   "metadata": {
    "collapsed": false
   },
   "outputs": [],
   "execution_count": null
  }
 ],
 "metadata": {
  "kernelspec": {
   "display_name": "Python 3",
   "language": "python",
   "name": "python3"
  },
  "language_info": {
   "codemirror_mode": {
    "name": "ipython",
    "version": 2
   },
   "file_extension": ".py",
   "mimetype": "text/x-python",
   "name": "python",
   "nbconvert_exporter": "python",
   "pygments_lexer": "ipython2",
   "version": "2.7.6"
  }
 },
 "nbformat": 4,
 "nbformat_minor": 0
}
