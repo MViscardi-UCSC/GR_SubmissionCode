{
 "cells": [
  {
   "cell_type": "code",
   "source": [
    "import numpy as np\n",
    "import pandas as pd\n",
    "from tqdm import tqdm\n",
    "pd.set_option('display.width', 100)\n",
    "pd.set_option('display.max_columns', None)\n",
    "\n",
    "import re\n",
    "\n",
    "import seaborn as sea\n",
    "import matplotlib.pyplot as plt\n",
    "from matplotlib.collections import PatchCollection\n",
    "from matplotlib.patches import Rectangle\n",
    "\n",
    "import sys\n",
    "sys.path.insert(0, '/data16/marcus/scripts/nanoporePipelineScripts')\n",
    "from nanoporePipelineCommon import *\n",
    "\n",
    "print(\"imports done\")"
   ],
   "metadata": {
    "collapsed": false
   },
   "outputs": [],
   "execution_count": null
  },
  {
   "cell_type": "code",
   "source": [
    "gtf_parquet_path = \"/data16/marcus/genomes/elegansRelease100/Caenorhabditis_elegans.WBcel235.100.gtf.parquet\"\n",
    "\n",
    "gtf_df = pd.read_parquet(gtf_parquet_path)"
   ],
   "metadata": {
    "collapsed": false
   },
   "outputs": [],
   "execution_count": null
  },
  {
   "cell_type": "code",
   "source": [
    "gtf_df.query(\"gene_name == 'ubl-1'\").query(\"feature == 'transcript'\")"
   ],
   "metadata": {
    "collapsed": false
   },
   "outputs": [],
   "execution_count": null
  },
  {
   "cell_type": "code",
   "source": [
    "import pyranges\n",
    "\n",
    "bed = pyranges.read_bed(\"/data16/marcus/genomes/elegansRelease100/Caenorhabditis_elegans.WBcel235.100.bed\").df"
   ],
   "metadata": {
    "collapsed": false
   },
   "outputs": [],
   "execution_count": null
  },
  {
   "cell_type": "code",
   "source": [
    "bed_df = bed.copy()\n",
    "bed_df[['transcipt_name', 'gene_type', 'gene_name']] = bed_df.Name.str.split(\"|\", expand=True)\n",
    "bed_df"
   ],
   "metadata": {
    "collapsed": false
   },
   "outputs": [],
   "execution_count": null
  },
  {
   "cell_type": "code",
   "source": [
    "def str_list_to_list_of_ints(row, column):\n",
    "    if col == 'ItemRGB':\n",
    "        last_parse_keeper = 3\n",
    "    else:\n",
    "        last_parse_keeper = -1\n",
    "    return list(map(int, row[column].split(',')[:last_parse_keeper]))\n",
    "\n",
    "for col in ['BlockSizes', 'BlockStarts', 'ItemRGB']:\n",
    "    try:\n",
    "        tqdm.pandas(desc=f\"Parsing the column: {col}\")\n",
    "        bed_df[col] = bed_df.progress_apply(lambda row: str_list_to_list_of_ints(row, col), axis=1)\n",
    "    except AttributeError:\n",
    "        print(f\"The {col} already appears to have been parsed!! Ignoring this column!\")"
   ],
   "metadata": {
    "collapsed": false
   },
   "outputs": [],
   "execution_count": null
  },
  {
   "cell_type": "code",
   "source": [
    "test_df = bed_df.query(\"gene_name == 'ubl-1'\").reset_index(drop=True)\n",
    "test_df"
   ],
   "metadata": {
    "collapsed": false
   },
   "outputs": [],
   "execution_count": null
  },
  {
   "cell_type": "code",
   "source": [
    "fig, ax = plt.subplots()\n",
    "def row_plot_rectangles(row, axes):\n",
    "    index = row.name\n",
    "    transcript_start = row['Start']\n",
    "    transcript_edit = row['End']\n",
    "    cds_start = row['ThickStart']\n",
    "    cds_end = row['ThickEnd']\n",
    "    exon_starts = row['BlockStarts']\n",
    "    exon_lengths = row['BlockSizes']\n",
    "    print(f\"\\n{row['transcipt_name']}\")\n",
    "    rectangle_patches = []\n",
    "    for (exon_start, exon_length) in zip(exon_starts, exon_lengths):\n",
    "        rectangle_patches.append(Rectangle((exon_start, index), exon_length, height=1))\n",
    "    axes.add_collection(PatchCollection(rectangle_patches))\n",
    "\n",
    "test_df.progress_apply(lambda row: row_plot_rectangles(row, ax), axis=1)\n",
    "\n",
    "ax.set_ylim(0,5)\n",
    "ax.set_xlim(0,1000)\n",
    "#fig.show()"
   ],
   "metadata": {
    "collapsed": false
   },
   "outputs": [],
   "execution_count": null
  },
  {
   "cell_type": "code",
   "source": [],
   "metadata": {
    "collapsed": false
   },
   "outputs": [],
   "execution_count": null
  }
 ],
 "metadata": {
  "kernelspec": {
   "display_name": "Python 3",
   "language": "python",
   "name": "python3"
  },
  "language_info": {
   "codemirror_mode": {
    "name": "ipython",
    "version": 2
   },
   "file_extension": ".py",
   "mimetype": "text/x-python",
   "name": "python",
   "nbconvert_exporter": "python",
   "pygments_lexer": "ipython2",
   "version": "2.7.6"
  }
 },
 "nbformat": 4,
 "nbformat_minor": 0
}
