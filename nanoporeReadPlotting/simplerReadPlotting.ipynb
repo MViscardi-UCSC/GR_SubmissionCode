{
 "cells": [
  {
   "cell_type": "markdown",
   "source": [
    "# simplerReadPlotting.ipynb\n",
    "## Marcus Viscardi,    July 17, 2023\n",
    "\n",
    "I want to quickly take some tricks I learned from fourLibrary5TERA/ambiguousReads.py and apply them here.\n",
    "\n",
    "The goal is to be able to plot reads from a locus based on their overlap of that locus and directionality. This will be a little messier, but important for all those genes that have a had time getting reads assigned to them! (*ets-4*)\n",
    "\n",
    "Plan is to feed this a **target_gene** and a **bam file** then use pysam to rip all the relevant reads from the bam, and plot those!"
   ],
   "metadata": {
    "collapsed": false
   }
  },
  {
   "cell_type": "code",
   "execution_count": null,
   "outputs": [],
   "source": [
    "import pandas as pd\n",
    "import numpy as np\n",
    "from pathlib import Path\n",
    "import pysam\n",
    "import sys\n",
    "from tqdm import tqdm\n",
    "sys.path.insert(0, '/data16/marcus/scripts/nanoporePipelineScripts')\n",
    "import nanoporePipelineCommon as npC\n",
    "from finalizingReadAndCoveragePlotting_matplotlib import plot_reads, coverage_plotting_5tera\n",
    "\n",
    "MIN_COVERAGE_OF_GENE = 50\n",
    "print(f\"Imports Complete @ {npC.get_dt(for_print=True)}\")"
   ],
   "metadata": {
    "collapsed": false
   }
  },
  {
   "cell_type": "code",
   "execution_count": null,
   "outputs": [],
   "source": [
    "def create_cutdown_bam(target_genes: list, target_lib:str, save_dir='/tmp') -> (Path, pd.DataFrame):\n",
    "    bam_file = Path(npC.pick_lib_return_path(npC.REV_CONVERSION_DICT[target_lib], output_dir_folder='cat_files', file_midfix='cat.sorted.mappedAndPrimary', file_suffix='.bam'))\n",
    "    gtf_df = pd.read_parquet('/data16/marcus/genomes/'\n",
    "                         'plus_cerENO2_elegansRelease100/'\n",
    "                         '230327_allChrs_plus-cerENO2.gtf.parquet')\n",
    "    short_gtf_df = gtf_df[(gtf_df['feature'] == 'gene') & (gtf_df['gene_name'].isin(target_genes))].copy()\n",
    "    bam = pysam.AlignmentFile(bam_file, 'rb')\n",
    "    cutdown_bam_path = f\"{save_dir}/{npC.get_dt()}_{'_'.join(target_genes)}_{target_lib}.bam\"\n",
    "    cutdown_bam = pysam.AlignmentFile(cutdown_bam_path, 'wb',\n",
    "                                      template=bam)\n",
    "    for gene_id, gene_name in zip(short_gtf_df['gene_id'], short_gtf_df['gene_name']):\n",
    "        print(f\"Working on {gene_name} @ {npC.get_dt(for_print=True)}\")\n",
    "        chromosome, start, end, strand = \\\n",
    "        short_gtf_df.loc[short_gtf_df['gene_id'] == gene_id, ['chr', 'start', 'end', 'strand', ]].values[0]\n",
    "        gene_is_reverse = (strand == '-')\n",
    "        gene_is_forward = not gene_is_reverse\n",
    "        read_iterator = tqdm(enumerate(bam.fetch(chromosome, start, end)))\n",
    "        for i, read in read_iterator:\n",
    "            if read.get_overlap(start, end) <= MIN_COVERAGE_OF_GENE:\n",
    "                continue  # This will catch reads that are not in the gene! (50 is arbitrary)\n",
    "                #           This is mainly because some reads \"span\" the gene, so they get fetched!\n",
    "            if read.is_reverse != gene_is_reverse:\n",
    "                continue  # This will catch reads that are in the wrong direction!\n",
    "            read.set_tag('gA', gene_id, value_type='Z')\n",
    "            read.set_tag('gN', gene_name, value_type='Z')\n",
    "            read.set_tag('rS', read.reference_start, value_type='i')\n",
    "            read.set_tag('rE', read.reference_end, value_type='i')\n",
    "            read.set_tag('qL', read.query_length, value_type='i')\n",
    "            cutdown_bam.write(read)\n",
    "    for loop_bam in [cutdown_bam]:\n",
    "        loop_bam.close()\n",
    "        pysam.sort(loop_bam.filename, '-o', loop_bam.filename)\n",
    "        pysam.index(loop_bam.filename)  # These samtools methods aren't in the pysam __init__ file, but they work!\n",
    "    bam.close()\n",
    "    print(f\"Done. Saved to: {cutdown_bam_path}\")\n",
    "    return Path(cutdown_bam_path), short_gtf_df"
   ],
   "metadata": {
    "collapsed": false
   }
  },
  {
   "cell_type": "code",
   "execution_count": null,
   "outputs": [],
   "source": [
    "target_genes = (\n",
    "    # 'ets-4',\n",
    "    # 'zip-1',\n",
    "    'xbp-1',\n",
    "    'rps-22',\n",
    ")\n",
    "target_lib = 'newerS6'\n",
    "\n",
    "\n",
    "create_cutdown_bam(target_genes, target_lib)"
   ],
   "metadata": {
    "collapsed": false
   }
  },
  {
   "cell_type": "code",
   "execution_count": null,
   "outputs": [],
   "source": [
    "def bam_tag_to_df(bam_object_or_path, tags=(), chr = None, start=None, stop = None):\n",
    "    if not isinstance(bam_object_or_path, pysam.AlignmentFile):\n",
    "        bam = pysam.AlignmentFile(bam_object_or_path, 'rb')\n",
    "    else:\n",
    "        bam = bam_object_or_path\n",
    "    read_names = []\n",
    "    chrs = []\n",
    "    chr_starts = []\n",
    "    strands = []\n",
    "    cigars = []\n",
    "    tags_dict = {tag: [] for tag in tags}\n",
    "    for read in bam.fetch(chr, start, stop):\n",
    "        read_names.append(read.query_name)\n",
    "        chrs.append(read.reference_name)\n",
    "        chr_starts.append(read.reference_start)\n",
    "        strands.append(read.is_reverse)\n",
    "        cigars.append(read.cigarstring)\n",
    "        for add_tag in tags:\n",
    "                tags_dict[add_tag].append(read.get_tag(add_tag))\n",
    "    df = pd.DataFrame({'read_id': read_names,\n",
    "                       'chr_id': chrs,\n",
    "                       'chr_pos': chr_starts,\n",
    "                       'strand': strands,\n",
    "                       'cigar': cigars,\n",
    "                       **tags_dict})\n",
    "    df.strand.replace({True: '-', False: '+'}, inplace=True)\n",
    "    return df"
   ],
   "metadata": {
    "collapsed": false
   }
  },
  {
   "cell_type": "code",
   "execution_count": null,
   "outputs": [],
   "source": [
    "quick_df = bam_tag_to_df(pysam.AlignmentFile(f\"/tmp/{npC.get_dt()}_{'_'.join(target_genes)}_{target_lib}.bam\", 'rb'), tags=['gA', 'gN', 't5', 'rS', 'rE']).rename(columns={'gA': 'gene_id', 'gN': 'gene_name'})\n",
    "quick_df"
   ],
   "metadata": {
    "collapsed": false
   }
  },
  {
   "cell_type": "code",
   "execution_count": 19,
   "outputs": [],
   "source": [
    "from matplotlib import pyplot as plt\n",
    "from matplotlib.collections import PatchCollection\n",
    "from matplotlib.patches import Rectangle\n",
    "import re\n",
    "get_dt = npC.get_dt\n",
    "\n",
    "\n",
    "def _make_rectangle_patch(genome_start, length, y_center, thickness, color='gray'):\n",
    "    return Rectangle((genome_start, y_center - (thickness / 2)), length, thickness,\n",
    "                     facecolor=color,\n",
    "                     edgecolor=color,\n",
    "                     fill=True,\n",
    "                     lw=0)\n",
    "\n",
    "\n",
    "def _add_patches_from_cigars_and_gen_pos(axes, cigar, gen_start, y, color='black', plot_introns=True):\n",
    "    # Parse the cigar string\n",
    "    parsed_cigar = re.findall(rf'(\\d+)([MDNSIX])', cigar)\n",
    "    mdn_nums = [int(num) for num, char in parsed_cigar if char in \"MDN\"]\n",
    "    gen_end = gen_start + sum(mdn_nums)\n",
    "    genomic_read_length = gen_end - gen_start\n",
    "\n",
    "    genome_loc = gen_start\n",
    "\n",
    "    rectangle_patch_list = []\n",
    "    first_n_length = 0\n",
    "    for length, code in parsed_cigar:\n",
    "        length = int(length)\n",
    "        if code == 'S':\n",
    "            pass\n",
    "        elif code == 'M':\n",
    "            rectangle_patch_list.append(_make_rectangle_patch(genome_loc, length, y, thickness=0.8))\n",
    "            genome_loc += length\n",
    "        elif code == 'D':\n",
    "            if length < 50:\n",
    "                rectangle_patch_list.append(_make_rectangle_patch(genome_loc, length, y, thickness=0.8))\n",
    "            else:\n",
    "                if plot_introns:\n",
    "                    rectangle_patch_list.append(_make_rectangle_patch(genome_loc, length, y, thickness=0.001))\n",
    "            genome_loc += length\n",
    "        elif code == 'I':\n",
    "            pass\n",
    "        elif code == 'N':\n",
    "            if plot_introns:\n",
    "                rectangle_patch_list.append(_make_rectangle_patch(genome_loc, length, y, thickness=0.001))\n",
    "            genome_loc += length\n",
    "    axes.add_collection(PatchCollection(rectangle_patch_list, color=color))\n",
    "    return genomic_read_length\n",
    "\n",
    "\n",
    "def _add_patches_from_cigars_and_gen_pos_gtp(axes, cigar, gen_start, y, color='black', plot_introns=True):\n",
    "    # Parse the cigar string\n",
    "    parsed_cigar = re.findall(rf'(\\d+)([MDNSIX])', cigar)\n",
    "    mdn_nums = [int(num) for num, char in parsed_cigar if char in \"MDN\"]\n",
    "    gen_end = gen_start + sum(mdn_nums)\n",
    "    genomic_read_length = gen_end - gen_start\n",
    "\n",
    "    genome_loc = gen_start\n",
    "\n",
    "    rectangle_patch_list = []\n",
    "    current_length = 0\n",
    "    for length, code in parsed_cigar:\n",
    "        length = int(length)\n",
    "        if code == 'S':\n",
    "            pass\n",
    "        elif code == 'M':\n",
    "            current_length += length\n",
    "            genome_loc += length\n",
    "        elif code == 'D':\n",
    "            current_length += length\n",
    "            genome_loc += length\n",
    "        elif code == 'I':\n",
    "            pass\n",
    "        elif code == 'N':\n",
    "            if plot_introns:\n",
    "                # Only add the accumulated length as a single rectangle if we encountered matches or deletes\n",
    "                if current_length > 0:\n",
    "                    rectangle_patch_list.append(_make_rectangle_patch(genome_loc - current_length, current_length, y, thickness=0.8))\n",
    "                    current_length = 0\n",
    "                rectangle_patch_list.append(_make_rectangle_patch(genome_loc, length, y, thickness=0.001))\n",
    "            genome_loc += length\n",
    "\n",
    "    # Add the accumulated length as a single rectangle if we reached the end of the cigar\n",
    "    if current_length > 0:\n",
    "        rectangle_patch_list.append(_make_rectangle_patch(genome_loc - current_length, current_length, y, thickness=0.8))\n",
    "\n",
    "    axes.add_collection(PatchCollection(rectangle_patch_list, color=color))\n",
    "\n",
    "    return genomic_read_length\n",
    "\n",
    "def subset_df(df, column, fractions):\n",
    "    subset_df = df.groupby(column).apply(lambda x: x.sample(frac=fractions.get(x.name, 1))).reset_index(drop=True)\n",
    "    return subset_df\n",
    "\n",
    "def _row_apply_plot_cigar(row, axes, plot_introns=True, spacing_factor=1.0):\n",
    "    index = row.name * spacing_factor\n",
    "    cigar = row.cigar\n",
    "    gen_start = row.ref_start\n",
    "    is_adapted = row.t5\n",
    "\n",
    "    if is_adapted == '-':\n",
    "        color = 'black'\n",
    "    else:\n",
    "        color = 'red'\n",
    "    return _add_patches_from_cigars_and_gen_pos_gtp(axes, cigar, gen_start, index,\n",
    "                                                    color=color,\n",
    "                                                    plot_introns=plot_introns)\n",
    "\n",
    "def new_plot_reads_from_bam(target_lib_nickname,\n",
    "                            target_gene_name,\n",
    "                            subset_fraction={'+': 1, '-': 1},\n",
    "                            spacing_factor=1.0,\n",
    "                            save_dir=None,\n",
    "                            ):\n",
    "    # First lets make the tmp BAM file that only has the gene of interest:\n",
    "    tmp_bam_path, short_gtf_df = create_cutdown_bam([target_gene_name], target_lib_nickname)\n",
    "    bam_df = bam_tag_to_df(tmp_bam_path, tags=['gA', 'gN', 't5', 'rS', 'rE', 'qL'])\n",
    "    bam_df.rename(columns={'gA': 'gene_name',\n",
    "                           'gN': 'gene_id',\n",
    "                           't5': 't5',\n",
    "                           'rS': 'ref_start',\n",
    "                           'rE': 'ref_end',\n",
    "                           'qL': 'read_length'},\n",
    "                  inplace=True)\n",
    "    \n",
    "    bam_df = subset_df(bam_df, \"t5\", subset_fraction)\n",
    "    read_count = bam_df.shape[0]\n",
    "    print(f\"{read_count:>6,} reads in {target_lib_nickname} that match {target_gene_name}\")\n",
    "    \n",
    "    # Get some gene info:\n",
    "    gene_id, chromosome, genomic_start, genomic_end, gene_strand = short_gtf_df.loc[short_gtf_df['gene_name'] == target_gene_name, ['gene_id', 'chr', 'start', 'end', 'strand']].values[0]\n",
    "    # Now lets plot the reads:\n",
    "    fig, ax = plt.subplots(figsize=(5, (read_count * 0.08 * spacing_factor)))\n",
    "    \n",
    "    if gene_strand == \"-\":\n",
    "        sort_order = [\"t5\", \"ref_end\", \"ref_start\", \"read_length\"]\n",
    "        sort_order_ascending = [False, True, False, False]\n",
    "    else:  # gene_strand == \"+\":\n",
    "        sort_order = [\"t5\", \"ref_start\", \"ref_end\", \"read_length\"]\n",
    "        sort_order_ascending = [False, False, False, False]\n",
    "    \n",
    "    bam_df = bam_df.sort_values(sort_order, ascending=sort_order_ascending).reset_index(drop=True)\n",
    "    tqdm.pandas(desc=\"Plotting Reads...\")\n",
    "    bam_df.progress_apply(lambda row: _row_apply_plot_cigar(row, ax, spacing_factor=spacing_factor), axis=1)\n",
    "\n",
    "    ax.set_xlim(genomic_start, genomic_end)\n",
    "    \n",
    "    number_of_plotted_reads = bam_df.shape[0]\n",
    "    ax.set_ylim(-1, number_of_plotted_reads + 1)\n",
    "    ax.set_xticks([])\n",
    "    ax.set_yticks([])\n",
    "    plt.tight_layout()\n",
    "    if save_dir is not None:\n",
    "        save_path = f\"{save_dir}/{get_dt()}_{target_lib_nickname}_{target_gene_name}.readPlotting\"\n",
    "        for suffix in [\"png\", \"svg\"]:\n",
    "            plt.savefig(f\"{save_path}.{suffix}\", dpi=300)\n",
    "        print(f\"Saved images to: {save_path}.png/svg\")\n",
    "    plt.show()\n",
    "    return bam_df"
   ],
   "metadata": {
    "collapsed": false,
    "ExecuteTime": {
     "end_time": "2024-01-25T16:59:56.022189647Z",
     "start_time": "2024-01-25T16:59:55.685169112Z"
    }
   }
  },
  {
   "cell_type": "code",
   "execution_count": 22,
   "outputs": [
    {
     "name": "stdout",
     "output_type": "stream",
     "text": [
      "Looking for file for 5tera_xrn-1-KD_wt_rerun, at /data16/marcus/working/230327_nanoporeRun_totalRNA_wt_xrn-1-KD_5TERA_rerun/output_dir/cat_files/*cat.sorted.mappedAndPrimary.bam... File Found.\n",
      "Working on rps-22 @ 01/25/24 @ 09:00:20 AM\n"
     ]
    },
    {
     "name": "stderr",
     "output_type": "stream",
     "text": [
      "1478it [00:00, 25051.95it/s]\n"
     ]
    },
    {
     "name": "stdout",
     "output_type": "stream",
     "text": [
      "Done. Saved to: /tmp/240125_rps-22_newerN2.bam\n",
      "    36 reads in newerN2 that match rps-22\n"
     ]
    },
    {
     "name": "stderr",
     "output_type": "stream",
     "text": [
      "Plotting Reads...: 100%|██████████| 36/36 [00:00<00:00, 1888.24it/s]\n"
     ]
    },
    {
     "name": "stdout",
     "output_type": "stream",
     "text": [
      "Saved images to: /home/marcus/Insync/mviscard@ucsc.edu/Google Drive/insync_folder/NMD_cleavage_and_deadenylation_paper/raw_figures_from_python/240125_readPlots/rps-22/240125_newerN2_rps-22.readPlotting.png/svg\n"
     ]
    },
    {
     "data": {
      "text/plain": "<Figure size 360x248.832 with 1 Axes>",
      "image/png": "[encoded data removed]"
     },
     "metadata": {},
     "output_type": "display_data"
    },
    {
     "name": "stdout",
     "output_type": "stream",
     "text": [
      "Looking for file for 5tera_xrn-1-KD_smg-6_rerun, at /data16/marcus/working/230403_nanoporeRun_totalRNA_smg-6_xrn-1-KD_5TERA_rerun/output_dir/cat_files/*cat.sorted.mappedAndPrimary.bam... File Found.\n",
      "Working on rps-22 @ 01/25/24 @ 09:00:20 AM\n"
     ]
    },
    {
     "name": "stderr",
     "output_type": "stream",
     "text": [
      "3918it [00:00, 22207.98it/s]\n"
     ]
    },
    {
     "name": "stdout",
     "output_type": "stream",
     "text": [
      "Done. Saved to: /tmp/240125_rps-22_newerS6.bam\n",
      "    58 reads in newerS6 that match rps-22\n"
     ]
    },
    {
     "name": "stderr",
     "output_type": "stream",
     "text": [
      "Plotting Reads...: 100%|██████████| 58/58 [00:00<00:00, 1621.27it/s]"
     ]
    },
    {
     "name": "stdout",
     "output_type": "stream",
     "text": [
      "Saved images to: /home/marcus/Insync/mviscard@ucsc.edu/Google Drive/insync_folder/NMD_cleavage_and_deadenylation_paper/raw_figures_from_python/240125_readPlots/rps-22/240125_newerS6_rps-22.readPlotting.png/svg\n"
     ]
    },
    {
     "name": "stderr",
     "output_type": "stream",
     "text": [
      "\n"
     ]
    },
    {
     "data": {
      "text/plain": "<Figure size 360x400.896 with 1 Axes>",
      "image/png": "[encoded data removed]"
     },
     "metadata": {},
     "output_type": "display_data"
    },
    {
     "name": "stdout",
     "output_type": "stream",
     "text": [
      "Looking for file for 5tera_xrn-1-KD_smg-5_rerun, at /data16/marcus/working/230410_nanoporeRun_totalRNA_smg-5_xrn-1-KD_5TERA_rerun/output_dir/cat_files/*cat.sorted.mappedAndPrimary.bam... File Found.\n",
      "Working on rps-22 @ 01/25/24 @ 09:00:21 AM\n"
     ]
    },
    {
     "name": "stderr",
     "output_type": "stream",
     "text": [
      "2253it [00:00, 21383.87it/s]\n"
     ]
    },
    {
     "name": "stdout",
     "output_type": "stream",
     "text": [
      "Done. Saved to: /tmp/240125_rps-22_newerS5.bam\n",
      "    36 reads in newerS5 that match rps-22\n"
     ]
    },
    {
     "name": "stderr",
     "output_type": "stream",
     "text": [
      "Plotting Reads...: 100%|██████████| 36/36 [00:00<00:00, 1664.46it/s]\n"
     ]
    },
    {
     "name": "stdout",
     "output_type": "stream",
     "text": [
      "Saved images to: /home/marcus/Insync/mviscard@ucsc.edu/Google Drive/insync_folder/NMD_cleavage_and_deadenylation_paper/raw_figures_from_python/240125_readPlots/rps-22/240125_newerS5_rps-22.readPlotting.png/svg\n"
     ]
    },
    {
     "data": {
      "text/plain": "<Figure size 360x248.832 with 1 Axes>",
      "image/png": "[encoded data removed]"
     },
     "metadata": {},
     "output_type": "display_data"
    }
   ],
   "source": [
    "\n",
    "sup_save_dir = f\"/home/marcus/Insync/mviscard@ucsc.edu/Google Drive/insync_folder/NMD_cleavage_and_deadenylation_paper/raw_figures_from_python/{get_dt()}_readPlots\"\n",
    "for gene in [# \"ets-4\",\n",
    "             # \"xbp-1\",\n",
    "             # \"zip-1\",\n",
    "             \"rps-22\",\n",
    "             ]:\n",
    "    save_dir = f\"{sup_save_dir}/{gene}\"\n",
    "    Path(save_dir).mkdir(exist_ok=True, parents=True)\n",
    "    for lib in [\"newerN2\",\n",
    "                # \"oldN2\",\n",
    "                \"newerS6\",\n",
    "                # \"oldS6\",\n",
    "                \"newerS5\",\n",
    "                ]:\n",
    "        new_plot_reads_from_bam(lib, gene,\n",
    "                                subset_fraction={\"+\": 0.75, \"-\": 0.01},\n",
    "                                save_dir=save_dir,\n",
    "                                spacing_factor=1.2,)"
   ],
   "metadata": {
    "collapsed": false,
    "ExecuteTime": {
     "end_time": "2024-01-25T17:00:22.010710367Z",
     "start_time": "2024-01-25T17:00:19.892497757Z"
    }
   }
  },
  {
   "cell_type": "code",
   "outputs": [],
   "source": [],
   "metadata": {
    "collapsed": false
   },
   "execution_count": null
  },
  {
   "cell_type": "code",
   "execution_count": null,
   "outputs": [],
   "source": [],
   "metadata": {
    "collapsed": false
   }
  }
 ],
 "metadata": {
  "kernelspec": {
   "display_name": "Python 3",
   "language": "python",
   "name": "python3"
  },
  "language_info": {
   "codemirror_mode": {
    "name": "ipython",
    "version": 2
   },
   "file_extension": ".py",
   "mimetype": "text/x-python",
   "name": "python",
   "nbconvert_exporter": "python",
   "pygments_lexer": "ipython2",
   "version": "2.7.6"
  }
 },
 "nbformat": 4,
 "nbformat_minor": 0
}
