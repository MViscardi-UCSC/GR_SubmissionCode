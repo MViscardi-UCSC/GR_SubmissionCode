{
 "cells": [
  {
   "cell_type": "markdown",
   "source": [
    "# testingReadPlotting_plotly.ipynb\n",
    "## Marcus Viscardi,    May 23, 2022\n",
    "\n",
    "This is made to work in conjunction with SimpleReadPlotting_cigars.py. This is really just a place for faster iterations of testing!"
   ],
   "metadata": {
    "collapsed": false,
    "pycharm": {
     "name": "#%% md\n"
    }
   }
  },
  {
   "cell_type": "code",
   "source": [
    "import numpy as np\n",
    "import pandas as pd\n",
    "from tqdm import tqdm\n",
    "pd.set_option('display.width', 100)\n",
    "pd.set_option('display.max_columns', None)\n",
    "\n",
    "import seaborn as sea\n",
    "import matplotlib.pyplot as plt\n",
    "import plotly.express as px\n",
    "import plotly.graph_objects as go\n",
    "import plotly.io as pio\n",
    "pio.renderers.default = \"browser\"\n",
    "\n",
    "from nanoporePipelineCommon import *\n",
    "\n",
    "print(\"imports done\")"
   ],
   "metadata": {
    "collapsed": false,
    "pycharm": {
     "name": "#%%\n"
    }
   },
   "outputs": [],
   "execution_count": null
  },
  {
   "cell_type": "code",
   "source": [
    "# Adding by drawing thick lines\n",
    "def add_line(figure, x0, x1, y, width=10, text=None, color='black'):\n",
    "    figure.add_trace(go.Scatter(x=[x0,x1], y=[y, y],\n",
    "                                hovertext=text,\n",
    "                                line=dict(width=width, color=color),\n",
    "                                marker=dict(opacity=0)))\n",
    "\n",
    "# Adding by drawing boxes\n",
    "def add_box(figure, x0, x1, y, width=4.5, text=None, color='black'):\n",
    "    figure.add_shape(type='rect',\n",
    "                     xref='x', x0=x0, x1=x1,\n",
    "                     yref='y', y0=y+(width/10), y1=y-(width/10),\n",
    "                     line=dict(width=0),\n",
    "                     fillcolor=color,\n",
    "                     )"
   ],
   "metadata": {
    "collapsed": false,
    "pycharm": {
     "name": "#%%\n"
    }
   },
   "outputs": [],
   "execution_count": null
  },
  {
   "cell_type": "code",
   "source": [
    "import re\n",
    "def _add_patches_from_cigars_and_gen_pos(figure, cigar, gen_start, y):\n",
    "    # Parse the cigar string\n",
    "    parsed_cigar = re.findall(rf'(\\d+)([MDNSIX])', cigar)\n",
    "    mdn_nums = [int(num) for num, char in parsed_cigar if char in \"MDN\"]\n",
    "    read_end = gen_start + sum(mdn_nums)\n",
    "    \n",
    "    genome_loc = gen_start\n",
    "    for nucl, code in parsed_cigar:\n",
    "        nucl = int(nucl)\n",
    "        if code == 'S':\n",
    "            genome_loc += nucl\n",
    "            figure.add_scatter(x=[genome_loc], y=[y], hovertext=f\"Read Number {y}<br>{cigar}\", name=\"\",\n",
    "                    marker=dict(color='black'))\n",
    "        elif code == 'M':\n",
    "            add_box(figure, genome_loc, genome_loc+nucl,y)\n",
    "            genome_loc += nucl\n",
    "        elif code == 'I':\n",
    "            add_box(figure, genome_loc-0.1, genome_loc,y, color='red')\n",
    "        elif code in ['D', 'N']:\n",
    "            if nucl > 5:\n",
    "                width = 2\n",
    "            else:\n",
    "                width=4.5\n",
    "            add_box(figure, genome_loc, genome_loc+nucl,y, width=width)\n",
    "            genome_loc += nucl\n",
    "    return gen_start, read_end\n",
    "\n",
    "# Make some fake data:\n",
    "test_cigar = \"0S10M2D10I25M\"\n",
    "genome_start = 3\n",
    "\n",
    "test_cigar_and_gen_starts = [(\"2S4M20I10M13D5M2S\",2),\n",
    "                             (\"0S10M2D10I25M\",3),\n",
    "                             (\"5S20M3I25M\",3),\n",
    "                             (\"4S13M10I20M13I5M2S\",5),\n",
    "                             (\"4S13M10I20M5M2S\",1),\n",
    "                             (\"20M13I5M2S\",5),\n",
    "                             (\"4S13M10I20D5M2S\",1),\n",
    "                             (\"4S8M1D14M2I14M1D11M2D23M1I46M1D8M1D8M1I19M1I5M\",3),\n",
    "                             (\"0S13M15I5M2S\",3),]\n",
    "fig = go.Figure()\n",
    "fig.update_xaxes(range=[0,50])\n",
    "fig.update_yaxes(range=[0,len(test_cigar_and_gen_starts)+1])\n",
    "coverage = []\n",
    "\n",
    "for i, (cigar, gen_start) in enumerate(test_cigar_and_gen_starts):\n",
    "    i += 1\n",
    "    coverage.append(_add_patches_from_cigars_and_gen_pos(fig, cigar, gen_start, i))\n",
    "    print(coverage)\n",
    "\n",
    "fig.update_layout(showlegend=False, template='plotly_white')\n",
    "#x axis\n",
    "fig.update_xaxes(visible=False)\n",
    "#y axis\n",
    "fig.update_yaxes(visible=False)\n",
    "fig"
   ],
   "metadata": {
    "collapsed": false,
    "pycharm": {
     "name": "#%%\n"
    }
   },
   "outputs": [],
   "execution_count": null
  },
  {
   "cell_type": "code",
   "source": [
    "reads_df_genes_raw, compressed_df_genes_raw = load_and_merge_lib_parquets([\"xrn-1-5tera\"], drop_sub_n=1, add_tail_groupings=False, drop_failed_polya=False, group_by_t5=True)\n",
    "print(\"done.\")"
   ],
   "metadata": {
    "collapsed": false,
    "pycharm": {
     "name": "#%%\n"
    }
   },
   "outputs": [],
   "execution_count": null
  },
  {
   "cell_type": "code",
   "source": [
    "reads_df = reads_df_genes_raw.copy()\n",
    "compressed_df = compressed_df_genes_raw.copy()"
   ],
   "metadata": {
    "collapsed": false,
    "pycharm": {
     "name": "#%%\n"
    }
   },
   "outputs": [],
   "execution_count": null
  },
  {
   "cell_type": "code",
   "source": [
    "ubl_df = reads_df.query(\"gene_name == 'ubl-1'\").reset_index(drop=True).head(5)\n",
    "\n",
    "def _row_apply_plot_cigar(row, fig):\n",
    "    index = row.name\n",
    "    cigar = row.cigar\n",
    "    gen_start = row.chr_pos\n",
    "    is_adapted = row.t5\n",
    "    _add_patches_from_cigars_and_gen_pos(fig, cigar, gen_start, index)\n",
    "    \n",
    "fig = go.Figure()\n",
    "tqdm.pandas()\n",
    "ubl_df.progress_apply(lambda row: _row_apply_plot_cigar(row, fig), axis=1)\n",
    "fig.update_layout(showlegend=False, template='plotly_white')\n",
    "#x axis\n",
    "fig.update_xaxes(visible=False)\n",
    "#y axis\n",
    "fig.update_yaxes(visible=False)\n",
    "fig"
   ],
   "metadata": {
    "collapsed": false,
    "pycharm": {
     "name": "#%%\n"
    }
   },
   "outputs": [],
   "execution_count": null
  },
  {
   "cell_type": "code",
   "source": [],
   "metadata": {
    "collapsed": false,
    "pycharm": {
     "name": "#%%\n"
    }
   },
   "outputs": [],
   "execution_count": null
  }
 ],
 "metadata": {
  "kernelspec": {
   "display_name": "Python 3",
   "language": "python",
   "name": "python3"
  },
  "language_info": {
   "codemirror_mode": {
    "name": "ipython",
    "version": 2
   },
   "file_extension": ".py",
   "mimetype": "text/x-python",
   "name": "python",
   "nbconvert_exporter": "python",
   "pygments_lexer": "ipython2",
   "version": "2.7.6"
  }
 },
 "nbformat": 4,
 "nbformat_minor": 0
}
