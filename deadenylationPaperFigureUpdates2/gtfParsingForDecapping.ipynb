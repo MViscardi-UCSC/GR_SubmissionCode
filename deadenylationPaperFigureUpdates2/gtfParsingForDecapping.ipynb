{
 "cells": [
  {
   "cell_type": "markdown",
   "source": [
    "# gtfParsingForDecapping.ipynb\n",
    "## Marcus Viscardi,    April 15, 2024\n",
    "\n",
    "Working in `decappingQuantification.ipynb`, I realized that we need to be able to calculate distances in transcriptome space from the genomic coordinates of our 5TERA libraries.\n",
    "\n",
    "To do this, we'll want to be able to \"walk\" along the GTF file as we move through the genomic space, then subtract out the intronic regions to get the distance along the transcript.\n",
    "\n",
    "A big problem with this is gonna be the fact that most genes have multiple transcripts...\n",
    "\n",
    "For our NMD guyz, we have previously binned them into target, non-target, and ambiguous. With this, we can figure out which transcripts in the GTF are the NMD targets and the non-targets then work from there? Feels crazy... And doesn't handle the multiple non-target transcripts...\n",
    "\n",
    "***\n",
    "\n",
    "Here, we want to see if we can parse the GTF file into something that will be useful for this purpose!"
   ],
   "metadata": {
    "collapsed": false
   },
   "id": "22675a3445358ce7"
  },
  {
   "cell_type": "code",
   "source": [
    "import nanoporePipelineCommon as npCommon\n",
    "\n",
    "import numpy as np\n",
    "import pandas as pd\n",
    "\n",
    "import seaborn as sea\n",
    "import matplotlib.pyplot as plt\n",
    "import plotly.express as px\n",
    "import plotly.graph_objects as go\n",
    "\n",
    "from tqdm.auto import tqdm\n",
    "\n",
    "from pprint import pprint\n",
    "\n",
    "from pathlib import Path\n",
    "\n",
    "from icecream import ic\n",
    "from datetime import datetime\n",
    "\n",
    "pd.set_option('display.width', 200)\n",
    "pd.set_option('display.max_columns', None)\n",
    "\n",
    "def __time_formatter__():\n",
    "    now = datetime.now().strftime(\"%Y-%m-%d %H:%M:%S\")\n",
    "    return f\"ic: {now} | > \"\n",
    "ic.configureOutput(prefix=__time_formatter__)\n",
    "\n",
    "_ = ic(\"Imports done!\")"
   ],
   "metadata": {
    "collapsed": false
   },
   "id": "dfa2d3cb19419dde",
   "outputs": [],
   "execution_count": null
  },
  {
   "cell_type": "code",
   "id": "initial_id",
   "metadata": {
    "collapsed": true
   },
   "source": [
    "gtf_parquet_path = Path(\"/data16/marcus/genomes/plus_cerENO2_elegansRelease100/230327_allChrs_plus-cerENO2.gtf.parquet\")\n",
    "\n",
    "gtf_df = pd.read_parquet(gtf_parquet_path)\n",
    "gtf_df.query(\"gene_name == 'ubl-1'\")"
   ],
   "outputs": [],
   "execution_count": null
  },
  {
   "cell_type": "code",
   "source": [
    "bed_path = Path(\"/data16/marcus/genomes/plus_cerENO2_elegansRelease100/230327_allChrs_plus-cerENO2.bed\")\n",
    "\n",
    "bed_dict = {}\n",
    "with open(bed_path, 'r') as bed_file:\n",
    "    lines = bed_file.readlines()\n",
    "    for i, line in tqdm(enumerate(lines), total=len(lines)):\n",
    "        line = line.strip().split(\"\\t\")\n",
    "        line_dict = {\n",
    "            \"chr\": line[0],\n",
    "            \"start\": int(line[1]),\n",
    "            \"end\": int(line[2]),\n",
    "            \"gene_id\": line[3].strip('\"'),\n",
    "            \"score\": line[4],\n",
    "            \"strand\": line[5],\n",
    "            \"source\": line[6],\n",
    "            \"feature\": line[7],\n",
    "            \"item_rgb\": line[8],\n",
    "        }\n",
    "        # print(line[9].strip(\";\").split(\";\"))\n",
    "        for item in line[9].strip(\";\").split(\"; \"):\n",
    "            try:\n",
    "                if \"=\" in item:\n",
    "                    key, value = item.split(\"=\", 1)\n",
    "                else:\n",
    "                    key, value = item.split(\" \", 1)\n",
    "            except ValueError:\n",
    "                pprint(line)\n",
    "                print(f\"Error on line {i}: {item}\")\n",
    "                raise ValueError(f\"Error on line {i}: {item}\")\n",
    "            line_dict[key] = value.strip('\"')\n",
    "        # pprint(line)\n",
    "        # pprint(line_dict)\n",
    "        # print(\"\\n\\n\")\n",
    "        bed_dict[i] = line_dict\n",
    "bed_df = pd.DataFrame.from_dict(bed_dict, orient=\"index\")"
   ],
   "metadata": {
    "collapsed": false
   },
   "id": "11b434a3bc87562f",
   "outputs": [],
   "execution_count": null
  },
  {
   "cell_type": "code",
   "source": [
    "target_gene = 'ubl-1'\n",
    "gene_df = bed_df.query(f\"gene_name == @target_gene\")\n",
    "\n",
    "for trans_id in gene_df.transcript_id.unique():\n",
    "    print('\\n', trans_id)\n",
    "    print(gene_df.query(f\"transcript_id == @trans_id and feature == 'exon'\").set_index('exon_id')[['start', 'end', 'feature']])\n",
    "print(gene_df.query(f\"feature == 'exon'\").set_index('exon_id')[['start', 'end', 'feature']])"
   ],
   "metadata": {
    "collapsed": false
   },
   "id": "6034e7b71d4ec3e4",
   "outputs": [],
   "execution_count": null
  },
  {
   "cell_type": "code",
   "source": [],
   "metadata": {
    "collapsed": false
   },
   "id": "f1a1b42d4147a48a",
   "outputs": [],
   "execution_count": null
  }
 ],
 "metadata": {
  "kernelspec": {
   "display_name": "Python 3",
   "language": "python",
   "name": "python3"
  },
  "language_info": {
   "codemirror_mode": {
    "name": "ipython",
    "version": 2
   },
   "file_extension": ".py",
   "mimetype": "text/x-python",
   "name": "python",
   "nbconvert_exporter": "python",
   "pygments_lexer": "ipython2",
   "version": "2.7.6"
  }
 },
 "nbformat": 4,
 "nbformat_minor": 5
}
