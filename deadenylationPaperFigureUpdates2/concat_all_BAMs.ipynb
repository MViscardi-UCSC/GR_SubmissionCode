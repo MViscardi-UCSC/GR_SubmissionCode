{
 "cells": [
  {
   "cell_type": "markdown",
   "source": [
    "# concat_all_BAMs.ipynb\n",
    "## Marcus Viscardi,    August 20, 2024\n",
    "\n",
    "Generally, I want to try just merging ALL my BAM files into one super file for each treatment and then using that for a meta anaylsis type thing.\n",
    "\n",
    "The main idea here is that any noise between libraries should shake out while the actual signal of NMD deg species will be easier to pick up with the counts\n",
    "\n",
    "I'll really just need to call [`samtool merge`](http://www.htslib.org/doc/samtools-merge.html) which should do it all! The only thing before that will be producing a file with a list of BAM file paths... Doesn't sound too bad!"
   ],
   "metadata": {
    "collapsed": false
   },
   "id": "b2356a42607f2a69"
  },
  {
   "cell_type": "code",
   "id": "initial_id",
   "metadata": {
    "collapsed": true
   },
   "source": [
    "from typing import Tuple\n",
    "\n",
    "import nanoporePipelineCommon as npCommon\n",
    "\n",
    "import numpy as np\n",
    "import pandas as pd\n",
    "\n",
    "import re\n",
    "\n",
    "import seaborn as sea\n",
    "import matplotlib.pyplot as plt\n",
    "import plotly.express as px\n",
    "import plotly.graph_objects as go\n",
    "\n",
    "from tqdm.auto import tqdm\n",
    "\n",
    "from icecream import ic\n",
    "from datetime import datetime\n",
    "\n",
    "from pathlib import Path\n",
    "\n",
    "from scipy.stats import mannwhitneyu, ks_2samp\n",
    "\n",
    "import pickle as pkl\n",
    "\n",
    "import random\n",
    "\n",
    "pd.set_option('display.width', 200)\n",
    "pd.set_option('display.max_columns', None)\n",
    "\n",
    "def __time_formatter__():\n",
    "    now = datetime.now().strftime(\"%Y-%m-%d %H:%M:%S\")\n",
    "    return f\"ic: {now} | > \"\n",
    "ic.configureOutput(prefix=__time_formatter__)\n",
    "\n",
    "_ = ic(\"Imports done!\")"
   ],
   "outputs": [],
   "execution_count": null
  },
  {
   "cell_type": "code",
   "source": [
    "plot_libs = [\n",
    "    ### The classics:\n",
    "    # \"oldN2\",\n",
    "    # \"oldS6\",\n",
    "    ### The terrible second replicates:\n",
    "    # \"newN2\",\n",
    "    # \"newS5\",\n",
    "    # \"newS6\",\n",
    "    ### The \"better\" second replicates:\n",
    "    \"newerN2\",\n",
    "    \"newerS6\",\n",
    "    \"newerS5\",\n",
    "    ### The triplicates!\n",
    "    \"thirdN2\",\n",
    "    \"thirdS5\",\n",
    "    \"thirdS6\",\n",
    "    ### At 25C for smg-7 (and fourth replicates in a way):\n",
    "    \"temp25cN2\",\n",
    "    \"temp25cS5\",\n",
    "    \"temp25cS6\",\n",
    "    \"temp25cS7\",\n",
    "]\n",
    "dir_paths = {lib: Path(npCommon.OUTPUT_DIR_DICT[npCommon.REV_CONVERSION_DICT[lib]]) for lib in plot_libs}\n",
    "for lib, out_dir in dir_paths.items():\n",
    "    assert out_dir.exists()\n",
    "    print(f\"{lib}:\\n\\t{out_dir}\")"
   ],
   "metadata": {
    "collapsed": false
   },
   "id": "4a632ac2c3ded76b",
   "outputs": [],
   "execution_count": null
  },
  {
   "cell_type": "code",
   "source": [
    "basic_bam_paths = {lib: out_dir / \"cat_files\" / \"cat.sorted.mappedAndPrimary.bam\" for lib, out_dir in dir_paths.items()}\n",
    "for lib, bam in basic_bam_paths.items():\n",
    "    assert bam.exists()\n",
    "    print(f\"{lib}:\\n\\t{bam}\")"
   ],
   "metadata": {
    "collapsed": false
   },
   "id": "c44351bdd0d519ce",
   "outputs": [],
   "execution_count": null
  },
  {
   "cell_type": "code",
   "source": [],
   "metadata": {
    "collapsed": false
   },
   "id": "aecc729a8d3b92e",
   "outputs": [],
   "execution_count": null
  }
 ],
 "metadata": {
  "kernelspec": {
   "display_name": "Python 3",
   "language": "python",
   "name": "python3"
  },
  "language_info": {
   "codemirror_mode": {
    "name": "ipython",
    "version": 2
   },
   "file_extension": ".py",
   "mimetype": "text/x-python",
   "name": "python",
   "nbconvert_exporter": "python",
   "pygments_lexer": "ipython2",
   "version": "2.7.6"
  }
 },
 "nbformat": 4,
 "nbformat_minor": 5
}
