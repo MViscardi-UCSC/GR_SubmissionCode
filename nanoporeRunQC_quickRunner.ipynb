{
 "cells": [
  {
   "cell_type": "markdown",
   "source": [
    "# nanoporeRunQC_quickRunner.ipynb\n",
    "## Marcus Viscardi,    July 27, 2023\n",
    "\n",
    "I want to generally just have this script run stuff from nanoporePipelineCommon.py, this is a notebook so I can test these a little easier!"
   ],
   "metadata": {
    "collapsed": false
   }
  },
  {
   "cell_type": "code",
   "metadata": {
    "collapsed": true
   },
   "source": [
    "import nanoporePipelineCommon as npC\n",
    "\n",
    "import seaborn as sea\n",
    "import matplotlib.pyplot as plt\n",
    "import plotly.express as px\n",
    "import plotly.graph_objects as go\n",
    "\n",
    "from Bio import SeqIO\n",
    "import pysam\n",
    "\n",
    "import pandas as pd\n",
    "pd.set_option('display.width', 200)\n",
    "pd.set_option('display.max_columns', None)\n",
    "\n",
    "get_dt = npC.get_dt\n",
    "print(f\"Imports done at {get_dt(for_print=True)}\")"
   ],
   "outputs": [],
   "execution_count": null
  },
  {
   "cell_type": "code",
   "source": [
    "obj_dict = {}\n",
    "libs_to_run = [\n",
    "    # \"oldN2\",\n",
    "    # # \"oldS6\",\n",
    "    # \"newerN2\",\n",
    "    # \"newerS6\",\n",
    "    # \"newerS5\",\n",
    "    # \"thirdN2\",\n",
    "    # \"thirdS5\",\n",
    "    # \"thirdS6\",\n",
    "    \"temp25cN2\",\n",
    "    \"temp25cS5\",\n",
    "    \"temp25cS6\",\n",
    "    \"temp25cS7\",\n",
    "    \"newN2\",\n",
    "    \"newS5\",\n",
    "    \"newS6\",\n",
    "]\n",
    "for lib in libs_to_run:\n",
    "    print(f\"\\nLoading {lib}...\", end=\"\")\n",
    "    obj_dict[lib] = npC.NanoporeRun(run_nickname=lib)\n",
    "    print(\" Done!\")"
   ],
   "metadata": {
    "collapsed": false
   },
   "outputs": [],
   "execution_count": null
  },
  {
   "cell_type": "code",
   "source": [
    "def plot_tail_length_by_standard(nanopore_run_obj, save=False, show=True,\n",
    "                                 y_lims=(0, 200), drop_non_standards=False,\n",
    "                                 save_dir=None, plot_type=\"violin\", violin_kwargs=None,\n",
    "                                 **kwargs) -> (plt.Figure, plt.Axes):\n",
    "        if not nanopore_run_obj.had_standards:\n",
    "            raise ValueError(f\"Run {nanopore_run_obj.run_name} did not have standards\")\n",
    "        if nanopore_run_obj.mergedOnReads_df is None:\n",
    "            nanopore_run_obj.load_mergedOnReads()\n",
    "        if \"figsize\" not in kwargs.keys():\n",
    "            print(f\"Figure size not set, using default (12, 8)\")\n",
    "            kwargs[\"figsize\"] = (12, 8)\n",
    "\n",
    "        plot_df = nanopore_run_obj.mergedOnReads_df[['assignment', 'polya_length']]\n",
    "        plot_df = plot_df[~plot_df.assignment.str.contains(\"Ambiguous\")]\n",
    "        if drop_non_standards:\n",
    "            plot_df = plot_df[~plot_df.assignment.str.contains(\"NotAStandard\")]\n",
    "        plot_order = ['60', '15', '10']\n",
    "\n",
    "        fig, ax = plt.subplots(**kwargs)\n",
    "        sea.set_theme(style=\"whitegrid\")\n",
    "        # fig.set_size_inches(6, 6)\n",
    "        # sea.boxplot(plot_df, ax=ax,\n",
    "        #             x='assignment', y='polya_length')\n",
    "        if plot_type == \"violin\":\n",
    "            sea.violinplot(plot_df, ax=ax,\n",
    "                           order=plot_order,\n",
    "                           x='assignment', y='polya_length',\n",
    "                           inner='quartile', density_norm='width', cut=0,\n",
    "                           linewidth=1, width=0.8,\n",
    "                           **(violin_kwargs if violin_kwargs is not None else {}))\n",
    "        elif plot_type == \"box\":\n",
    "            sea.boxplot(plot_df, ax=ax,\n",
    "                        order=plot_order,\n",
    "                        x='assignment', y='polya_length')\n",
    "        elif plot_type == \"strip\":\n",
    "            sea.stripplot(plot_df, ax=ax,\n",
    "                          order=plot_order,\n",
    "                          x='assignment', y='polya_length')\n",
    "        # elif plot_type == \"swarm\":\n",
    "        #     sea.swarmplot(plot_df, ax=ax,\n",
    "        #                   order=plot_order,\n",
    "        #                   x='assignment', y='polya_length')\n",
    "        else:\n",
    "            raise ValueError(f\"plot_type {plot_type} not recognized\")\n",
    "        ax.set_title(f\"{nanopore_run_obj.run_nickname} Tail Lengths by Standard\")\n",
    "        ax.set_ylabel(\"Tail Length\")\n",
    "        ax.set_xlabel(\"Assigned Standard\")\n",
    "        ax.set_ylim(y_lims[0], y_lims[1])\n",
    "\n",
    "        plt.tight_layout()\n",
    "        if save_dir is not None:\n",
    "            out_path = f\"{save_dir}/{nanopore_run_obj.run_nickname}_tail_lengths_by_standard.{plot_type}\"\n",
    "        else:\n",
    "            out_path = f\"{nanopore_run_obj.run_dir}/{nanopore_run_obj.run_nickname}_tail_lengths_by_standard.{plot_type}\"\n",
    "        \n",
    "        if save:\n",
    "            fig.savefig(out_path + \".png\", dpi=300)\n",
    "            fig.savefig(out_path + \".svg\")\n",
    "        if show:\n",
    "            plt.show()\n",
    "        return fig, ax"
   ],
   "metadata": {
    "collapsed": false
   },
   "outputs": [],
   "execution_count": null
  },
  {
   "cell_type": "code",
   "source": [
    "from pathlib import Path\n",
    "# super_save_dir = Path(\"/data16/marcus/working/240126_NanoporeRunQC_tailPlotsForJosh\")\n",
    "super_save_dir = Path(\"/data16/marcus/working/240702_NanoporeRunQC_25C\")\n",
    "super_save_dir.mkdir(parents=True, exist_ok=True)\n",
    "\n",
    "test_lib = \"thirdN2\"\n",
    "only_plot_test_lib = False\n",
    "\n",
    "for lib, obj in obj_dict.items():\n",
    "    if only_plot_test_lib and lib != test_lib:\n",
    "        continue\n",
    "    lib_save_dir = super_save_dir / lib\n",
    "    lib_save_dir.mkdir(parents=True, exist_ok=True)\n",
    "    for plot_type in [\"violin\", ]: # \"box\", \"strip\"]:\n",
    "        print(f\"\\nRunning {lib}...\", end=\"\")\n",
    "        try:\n",
    "            plot_tail_length_by_standard(obj, drop_non_standards=True, plot_type=plot_type, save=True, save_dir=str(lib_save_dir), y_lims=(-5, 250),\n",
    "                                         violin_kwargs={\n",
    "                                             # \"bw_adjust\": 0.5,\n",
    "                                             \"gridsize\": 1000,\n",
    "                                             # \"density_norm\": \"width\",\n",
    "                                         },\n",
    "                                         **{\n",
    "                                             \"figsize\": (5, 5),\n",
    "                                         })\n",
    "        except ValueError as e:\n",
    "            print(f\"ValueError for {lib}: {e}\")\n",
    "        print(\" Done!\")"
   ],
   "metadata": {
    "collapsed": false
   },
   "outputs": [],
   "execution_count": null
  },
  {
   "cell_type": "code",
   "source": [
    "spacing = 20\n",
    "\n",
    "print_list = []\n",
    "comma_print_list = []\n",
    "for i, (lib, obj) in enumerate(obj_dict.items()):\n",
    "    # I want to check that the index file is newer than the bam file\n",
    "    bam = obj.cat_dir / (\"cat.sorted.bam\")\n",
    "    bam_index = obj.cat_dir / (\"cat.sorted.bam.bai\")\n",
    "    if not bam_index.exists() or bam_index.stat().st_mtime < bam.stat().st_mtime:\n",
    "        print(f\"Indexing {bam} because it's newer than it's index...\")\n",
    "        pysam.index(str(bam))\n",
    "    \n",
    "    cdict = obj.get_read_counts_dict()\n",
    "    if cdict['protein_coding'] <= 0:\n",
    "        print(f\"Getting read biotype counts for {lib}...\")\n",
    "        obj.get_read_biotype_count_dict()\n",
    "    if cdict['adapted'] <= 0:\n",
    "        print(f\"Getting raw adapted counts for {lib}...\")\n",
    "        obj.get_raw_adapted_count()\n",
    "    cdict = obj.get_read_counts_dict()\n",
    "    string_list = [f\"{lib:<{spacing-5}}\"]\n",
    "    comma_string_list = [f\"{lib},\"]\n",
    "    key_string_list = [f\"{'Library':<{spacing-5}}\"]\n",
    "    key_comma_string_list = [f\"{'Library'},\"]\n",
    "    for key, value in cdict.items():\n",
    "        string_list.append(f\"{value:>{spacing},}\")\n",
    "        comma_string_list.append(f\"{value},\")\n",
    "        key_string_list.append(f\"{key.replace('_', ' ').title():>{spacing}}\")\n",
    "        key_comma_string_list.append(f\"{key.replace('_', ' ').title()},\")\n",
    "    if i == 0:\n",
    "        print_list.append(key_string_list)\n",
    "        comma_print_list.append(key_comma_string_list)\n",
    "    print_list.append(string_list)\n",
    "    comma_print_list.append(comma_string_list)\n",
    "print(\"\\n\".join([\"\".join(line) for line in print_list]))\n",
    "print(\"\\n\".join([\"\".join(line) for line in comma_print_list]))  # use this for pasting to google sheets"
   ],
   "metadata": {
    "collapsed": false
   },
   "outputs": [],
   "execution_count": null
  },
  {
   "cell_type": "code",
   "source": [
    "sea.set_style('whitegrid')\n",
    "\n",
    "for i, lib in enumerate(libs_to_run):\n",
    "    lib_obj = obj_dict[lib]\n",
    "    print(lib)\n",
    "    lib_obj.biotypes_bar_plot()\n",
    "print(\"done.\")"
   ],
   "metadata": {
    "collapsed": false
   },
   "outputs": [],
   "execution_count": null
  },
  {
   "cell_type": "code",
   "source": [
    "for i, lib in enumerate(libs_to_run):\n",
    "    lib_obj = obj_dict[lib]\n",
    "    print(lib)\n",
    "    lib_obj.print_read_counts()"
   ],
   "metadata": {
    "collapsed": false
   },
   "outputs": [],
   "execution_count": null
  },
  {
   "cell_type": "code",
   "source": [],
   "metadata": {
    "collapsed": false
   },
   "outputs": [],
   "execution_count": null
  }
 ],
 "metadata": {
  "kernelspec": {
   "display_name": "Python 3",
   "language": "python",
   "name": "python3"
  },
  "language_info": {
   "codemirror_mode": {
    "name": "ipython",
    "version": 2
   },
   "file_extension": ".py",
   "mimetype": "text/x-python",
   "name": "python",
   "nbconvert_exporter": "python",
   "pygments_lexer": "ipython2",
   "version": "2.7.6"
  }
 },
 "nbformat": 4,
 "nbformat_minor": 0
}
