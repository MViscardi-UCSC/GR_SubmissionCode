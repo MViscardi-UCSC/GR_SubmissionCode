{
 "cells": [
  {
   "cell_type": "code",
   "metadata": {
    "collapsed": true
   },
   "source": [
    "import sys\n",
    "import warnings\n",
    "sys.path.insert(0, '/data16/marcus/scripts/nanoporePipelineScripts')\n",
    "import nanoporePipelineCommon as npCommon\n",
    "\n",
    "from tqdm.notebook import tqdm\n",
    "\n",
    "import seaborn as sea\n",
    "import matplotlib.pyplot as plt\n",
    "import plotly.express as px\n",
    "import plotly.graph_objects as go\n",
    "import plotly.io as pio\n",
    "import dash_bio\n",
    "pio.renderers.default = \"browser\"\n",
    "\n",
    "import numpy as np\n",
    "import pandas as pd \n",
    "import statistics as stats\n",
    "pd.set_option('display.width', 200)\n",
    "pd.set_option('display.max_columns', None)\n",
    "\n",
    "CONVERSION_DICT = npCommon.CONVERSION_DICT\n",
    "REV_CONVERSION_DICT = {val: key for key, val in CONVERSION_DICT.items()}\n",
    "\n",
    "print(f\"Imports done at {npCommon.get_dt(for_print=True)}\")"
   ],
   "outputs": [],
   "execution_count": null
  },
  {
   "cell_type": "code",
   "source": [
    "output_df_path = \"/home/marcus/Insync/mviscard@ucsc.edu/Google Drive/insync_folder/NMD_cleavage_and_deadenylation_paper/raw_figures_from_python/231010_fishers/231010_statTests_fishers_largeDF.parquet\"\n",
    "output_df_raw = pd.read_parquet(output_df_path)\n",
    "output_df_raw.head()"
   ],
   "metadata": {
    "collapsed": false
   },
   "outputs": [],
   "execution_count": null
  },
  {
   "cell_type": "code",
   "source": [
    "lib_comps_run = []\n",
    "for col in output_df_raw.columns:\n",
    "    if col.endswith(\"fishers_significant\"):\n",
    "        lib1, lib2 = col.split(\"_v_\")[0], col.split(\"_v_\")[1].split(\"_fishers_significant\")[0]\n",
    "        print(lib1, lib2)\n",
    "        lib_comps_run.append((lib1, lib2))\n",
    "libs_run = set([lib for lib1, lib2 in lib_comps_run for lib in [lib1, lib2]])"
   ],
   "metadata": {
    "collapsed": false
   },
   "outputs": [],
   "execution_count": null
  },
  {
   "cell_type": "code",
   "source": [
    "min_cutoff_hits = 10\n",
    "\n",
    "output_df = output_df_raw.copy()\n",
    "min_cutoff_masks = [output_df[f'total_gene_hits_{lib}'] >= min_cutoff_hits for lib in libs_run]\n",
    "sig_cutoff_masks = [output_df[f'{lib1}_v_{lib2}_fishers_significant'] for lib1, lib2 in lib_comps_run]\n",
    "# output_df = output_df.all(min_cutoff_masks)\n",
    "output_df[f'passed_{min_cutoff_hits}_hit_cutoff_for_all'] = pd.concat(min_cutoff_masks, axis=1).all(axis=1)  # >= len(min_cutoff_masks)\n",
    "output_df['num_sig_hits'] = pd.concat(sig_cutoff_masks, axis=1).sum(axis=1)\n",
    "output_df = output_df[output_df[f'passed_{min_cutoff_hits}_hit_cutoff_for_all']]\n",
    "output_df.sort_values(\"num_sig_hits\", ascending=False)"
   ],
   "metadata": {
    "collapsed": false
   },
   "outputs": [],
   "execution_count": null
  },
  {
   "cell_type": "code",
   "source": [
    "for lib1, lib2 in lib_comps_run:\n",
    "    test_col = output_df[f'total_gene_rpm_{lib2}'] / output_df[f'total_gene_rpm_{lib1}']\n",
    "    new_col_name = f'log2FC_RPM_{lib2}_v_{lib1}'\n",
    "    output_df[new_col_name] = np.log2(test_col)\n",
    "    print(new_col_name)\n",
    "plot_df = output_df[[col for col in output_df.columns if \"log2FC_RPM\" in col or col == \"num_sig_hits\"]]\n",
    "plot_df.reset_index(inplace=True)\n",
    "plot_df.drop(columns=[\"chr_id\", 'gene_id'], inplace=True)"
   ],
   "metadata": {
    "collapsed": false
   },
   "outputs": [],
   "execution_count": null
  },
  {
   "cell_type": "code",
   "source": [
    "sig_cutoff_num = 0\n",
    "filtered_plot_df = plot_df.query(f\"num_sig_hits >= {sig_cutoff_num}\").set_index(\"gene_name\").drop(columns=[\"num_sig_hits\"])\n",
    "sea.set_theme(style=\"whitegrid\")\n",
    "sea.clustermap(filtered_plot_df,\n",
    "               center=0,\n",
    "               cmap=\"vlag\",\n",
    "               figsize=(5, 10))\n",
    "plt.show()"
   ],
   "metadata": {
    "collapsed": false
   },
   "outputs": [],
   "execution_count": null
  },
  {
   "cell_type": "code",
   "source": [
    "dash_bio.Clustergram(\n",
    "    data=filtered_plot_df,\n",
    "    column_labels=list(filtered_plot_df.columns.values),\n",
    "    row_labels=list(filtered_plot_df.index),\n",
    "    height=1000,\n",
    "    width=700,\n",
    ")"
   ],
   "metadata": {
    "collapsed": false
   },
   "outputs": [],
   "execution_count": null
  },
  {
   "cell_type": "code",
   "source": [
    "lib_comps_run"
   ],
   "metadata": {
    "collapsed": false
   },
   "outputs": [],
   "execution_count": null
  },
  {
   "cell_type": "code",
   "source": [
    "px.scatter(filtered_plot_df,\n",
    "           x=\"log2FC_RPM_newerS6_v_newerN2\",\n",
    "           y=\"log2FC_RPM_newerS5_v_newerN2\",\n",
    "           )"
   ],
   "metadata": {
    "collapsed": false
   },
   "outputs": [],
   "execution_count": null
  },
  {
   "cell_type": "code",
   "source": [],
   "metadata": {
    "collapsed": false
   },
   "outputs": [],
   "execution_count": null
  }
 ],
 "metadata": {
  "kernelspec": {
   "display_name": "Python 3",
   "language": "python",
   "name": "python3"
  },
  "language_info": {
   "codemirror_mode": {
    "name": "ipython",
    "version": 2
   },
   "file_extension": ".py",
   "mimetype": "text/x-python",
   "name": "python",
   "nbconvert_exporter": "python",
   "pygments_lexer": "ipython2",
   "version": "2.7.6"
  }
 },
 "nbformat": 4,
 "nbformat_minor": 0
}
