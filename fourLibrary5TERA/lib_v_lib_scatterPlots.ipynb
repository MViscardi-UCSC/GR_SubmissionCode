{
 "cells": [
  {
   "cell_type": "markdown",
   "source": [
    "# lib_v_lib_scatterPlots.ipynb\n",
    "### Marcus Viscardi,    August 31, 2023\n",
    "\n",
    "Simple script with goal to look at read count differences between libs"
   ],
   "metadata": {
    "collapsed": false
   }
  },
  {
   "cell_type": "code",
   "source": [
    "import sys\n",
    "import warnings\n",
    "\n",
    "from tqdm.notebook import tqdm\n",
    "\n",
    "import seaborn as sea\n",
    "import matplotlib.pyplot as plt\n",
    "import plotly.express as px\n",
    "import plotly.graph_objects as go\n",
    "import plotly.io as pio\n",
    "\n",
    "import numpy as np\n",
    "import pandas as pd\n",
    "import statistics as stats\n",
    "from pathlib import Path\n",
    "\n",
    "sys.path.insert(0, '/data16/marcus/scripts/nanoporePipelineScripts')\n",
    "import nanoporePipelineCommon as npCommon\n",
    "\n",
    "pio.renderers.default = \"browser\"\n",
    "\n",
    "pd.set_option('display.width', 200)\n",
    "pd.set_option('display.max_columns', None)\n",
    "\n",
    "CONVERSION_DICT = npCommon.CONVERSION_DICT\n",
    "REV_CONVERSION_DICT = npCommon.REV_CONVERSION_DICT\n",
    "\n",
    "print(f\"Imports done at {npCommon.get_dt(for_print=True)}\")"
   ],
   "metadata": {
    "collapsed": false
   },
   "outputs": [],
   "execution_count": null
  },
  {
   "cell_type": "code",
   "metadata": {
    "collapsed": true
   },
   "source": [
    "regenerate = False\n",
    "libs_to_load = sorted({\n",
    "    'oldN2',\n",
    "    'oldS6',\n",
    "    'newerN2',\n",
    "    'newerS6',\n",
    "    'newerS5',\n",
    "    'thirdN2',\n",
    "    'thirdS5',\n",
    "    'thirdS6',\n",
    "})\n",
    "\n",
    "try:\n",
    "    if regenerate:\n",
    "        raise FileNotFoundError\n",
    "    \n",
    "    reads_df_raw_path = npCommon.find_newest_matching_file(f\"./output_files/mega_merge_parquets/*_{'-'.join(libs_to_load)}_merged5TERA.reads_df.parquet\")\n",
    "    compressed_df_genes_raw_path = npCommon.find_newest_matching_file(f\"./output_files/mega_merge_parquets/*_{'-'.join(libs_to_load)}_merged5TERA.compressed_df.parquet\")\n",
    "    print(f\"Found preprocessed files at:\\n\\t{reads_df_raw_path}\\nand:\\n\\t{compressed_df_genes_raw_path}\")\n",
    "\n",
    "    reads_df_genes_raw = pd.read_parquet(reads_df_raw_path)\n",
    "    compressed_df_genes_raw = pd.read_parquet(compressed_df_genes_raw_path)\n",
    "except FileNotFoundError:\n",
    "    print(f\"Could not find preprocessed files matching these libs: {'/'.join(libs_to_load)}\\nGoing to create new ones from scratch! This will take longer.\")\n",
    "    reads_df_genes_raw, compressed_df_genes_raw = npCommon.load_and_merge_lib_parquets([REV_CONVERSION_DICT[lib] for lib in libs_to_load],\n",
    "                                                                                       drop_sub_n=1,\n",
    "                                                                                       add_tail_groupings=False,\n",
    "                                                                                       drop_failed_polya=False,\n",
    "                                                                                       group_by_t5=True,\n",
    "                                                                                       use_josh_assignment=False)\n",
    "    print(f\"Saving new parquets to speed up future runs.\")\n",
    "    reads_df_genes_raw.to_parquet(f\"./output_files/mega_merge_parquets/{npCommon.get_dt()}_{'-'.join(libs_to_load)}_merged5TERA.reads_df.parquet\")\n",
    "    compressed_df_genes_raw.to_parquet(f\"./output_files/mega_merge_parquets/{npCommon.get_dt()}_{'-'.join(libs_to_load)}_merged5TERA.compressed_df.parquet\")\n",
    "print(f\"Lib load done @ {npCommon.get_dt(for_print=True)}\")\n",
    "\n",
    "compressed_df_genes_short = compressed_df_genes_raw.copy()[[\"lib\", \"chr_id\", \"gene_id\", \"gene_name\", \"t5\", \"gene_hits\", \"gene_rpm\"]]\n",
    "compressed_df_genes_short.query(\"gene_name == 'rpl-12'\")"
   ],
   "outputs": [],
   "execution_count": null
  },
  {
   "cell_type": "code",
   "source": [
    "conversion_dict = CONVERSION_DICT\n",
    "ans = [y for x, y in compressed_df_genes_short.groupby(['lib', 't5'], as_index=False)]\n",
    "df_dict = {}\n",
    "for i, df in enumerate(ans):\n",
    "    lib = df.lib.unique()[0]\n",
    "    t5 = df.t5.unique()[0]\n",
    "    df = df[[\"chr_id\", \"gene_id\", \"gene_name\", \"gene_hits\", \"gene_rpm\"]]\n",
    "    df = df.rename(columns={col: f'{col}_{conversion_dict[lib]}_t5{t5}' for col in df.columns if col not in [\"chr_id\", \"gene_id\", \"gene_name\"]})\n",
    "    df_dict[(conversion_dict[lib], t5)] = df.set_index([\"chr_id\", \"gene_id\", \"gene_name\"])\n",
    "    # print((conversion_dict[lib], t5))\n",
    "    # print(df_dict[(conversion_dict[lib], t5)].query(\"gene_name == 'rpl-12'\"))\n",
    "\n",
    "super_df = pd.concat(df_dict.values(), axis=1, join='outer').fillna(0)\n",
    "super_df"
   ],
   "metadata": {
    "collapsed": false
   },
   "outputs": [],
   "execution_count": null
  },
  {
   "cell_type": "code",
   "source": [
    "# Regenerate just the total RPM for each gene:\n",
    "for lib in libs_to_load:\n",
    "    super_df[f\"gene_rpm_{lib}\"] = super_df[[f\"gene_rpm_{lib}_t5+\", f\"gene_rpm_{lib}_t5-\"]].sum(axis=1)"
   ],
   "metadata": {
    "collapsed": false
   },
   "outputs": [],
   "execution_count": null
  },
  {
   "cell_type": "code",
   "source": [
    "from plotly.subplots import make_subplots\n",
    "from plotly import graph_objects as go\n",
    "plot_df = super_df.copy()\n",
    "genes_to_exclude = ['xrn-1', 'rrn-2.1', 'F23A7.4', 'F23A7.8', 'unNamed']\n",
    "plot_df = plot_df[~plot_df.index.get_level_values('gene_name').isin(genes_to_exclude)]\n",
    "plot_df = plot_df.sort_index()\n",
    "\n",
    "def plot_rockets(l1, l2, plotting_df, save_dir=None, force_limits=False):\n",
    "    fig = make_subplots(rows=1, cols=3,\n",
    "                        subplot_titles=[f\"{l1} vs {l2} RPM (total)\",\n",
    "                                        f\"{l1} vs {l2} RPM (unadapted)\",\n",
    "                                        f\"{l1} vs {l2} RPM (adapted)\",\n",
    "                                        ],\n",
    "                        # shared_yaxes=True,\n",
    "                        # shared_xaxes=True,\n",
    "                        row_heights=[500],\n",
    "                        column_widths=[500, 500, 500],\n",
    "                        )\n",
    "    for i, t5 in enumerate(['', '_t5-', '_t5+']):\n",
    "        subplot = px.scatter(plotting_df.reset_index(),\n",
    "                             x=f\"gene_rpm_{l1}{t5}\",\n",
    "                             y=f\"gene_rpm_{l2}{t5}\",\n",
    "                             hover_name=\"gene_name\",\n",
    "                             )\n",
    "        fig.add_trace(subplot.data[0], row=1, col=i + 1)\n",
    "\n",
    "        fig.update_xaxes(\n",
    "            title=f\"{l1} RPM {t5.strip('_')}\",\n",
    "            ticks=\"inside\", ticklen=5, showgrid=True, gridcolor='lightgrey', type='log',\n",
    "            minor=dict(ticks=\"inside\", ticklen=5, showgrid=True),\n",
    "            row=1, col=i + 1,\n",
    "        )\n",
    "        fig.update_yaxes(\n",
    "            title=f\"{l2} RPM {t5.strip('_')}\",\n",
    "            ticks=\"inside\", ticklen=5, showgrid=True, gridcolor='lightgrey', type='log',\n",
    "            minor=dict(ticks=\"inside\", ticklen=5, showgrid=True),\n",
    "            row=1, col=i + 1,\n",
    "        )\n",
    "        if force_limits:\n",
    "            if i != 2:\n",
    "                limits = [0.5, 4.5]\n",
    "            else:\n",
    "                limits = [0, 3]\n",
    "            fig.update_xaxes(range=limits, row=1, col=i + 1)\n",
    "            fig.update_yaxes(range=limits, row=1, col=i + 1)\n",
    "    fig.update_traces(marker=dict(size=5,\n",
    "                                  color='black',\n",
    "                                  ),\n",
    "                      )\n",
    "    fig.update_layout(height=500,\n",
    "                      width=1500,\n",
    "                      template='none')\n",
    "    if save_dir:\n",
    "        if not Path(save_dir).exists():\n",
    "            warnings.warn(f\"Save directory doesn't exist! Making it now at: {save_dir}\")\n",
    "            Path(save_dir).mkdir(parents=True)\n",
    "        fig.write_html(f\"{save_dir}/{l1}_v_{l2}_scatters.html\")\n",
    "        fig.write_image(f\"{save_dir}/{l1}_v_{l2}_scatters.png\")\n",
    "        fig.write_image(f\"{save_dir}/{l1}_v_{l2}_scatters.svg\")\n",
    "    \n",
    "    fig.show(renderer='firefox')\n",
    "    return fig\n",
    "\n",
    "def plot_rocket_grid(libs, plotting_df, save_dir=None, force_limits=True):\n",
    "    lib_list_in_order = sorted(libs)\n",
    "    plotting_df = plotting_df[[f\"gene_rpm_{lib}\" for lib in lib_list_in_order]]\n",
    "    fig = go.Figure(data=go.Splom(\n",
    "        dimensions=[dict(label=f\"{lib}\", values=plotting_df[f\"gene_rpm_{lib}\"]) for lib in lib_list_in_order],\n",
    "        showupperhalf=False,\n",
    "        text=plotting_df.index.get_level_values('gene_name'),\n",
    "        marker=dict(color='black',\n",
    "                    size=5,\n",
    "                    opacity=0.5),\n",
    "    ))\n",
    "    fig.update_layout(\n",
    "        title=f\"Gene RPMs for {', '.join(libs)}\",\n",
    "        width=1000,\n",
    "        height=1000,\n",
    "    )\n",
    "    axes_layout_dir = dict(ticks=\"inside\", ticklen=5, showgrid=True, gridcolor='lightgrey', type='log',\n",
    "                           minor=dict(ticks=\"inside\", ticklen=5, showgrid=True))\n",
    "    if force_limits:\n",
    "        axes_layout_dir['range'] = [0.5, 4.5]\n",
    "    update_layout_dict_base = {'xaxis': axes_layout_dir, 'yaxis': axes_layout_dir}\n",
    "    update_layout_dict_xauto = {f'xaxis{i}': axes_layout_dir for i in range(1, len(libs) + 1)}\n",
    "    update_layout_dict_yauto = {f'yaxis{i}': axes_layout_dir for i in range(1, len(libs) + 1)}\n",
    "    update_layout_dict = {**update_layout_dict_base, **update_layout_dict_xauto, **update_layout_dict_yauto}\n",
    "    fig.update_layout(**update_layout_dict)\n",
    "    if save_dir:\n",
    "        if not Path(save_dir).exists():\n",
    "            warnings.warn(f\"Save directory doesn't exist! Making it now at: {save_dir}\")\n",
    "            Path(save_dir).mkdir(parents=True)\n",
    "        fig.write_html(f\"{save_dir}/{'-'.join(libs)}_scatters.html\")\n",
    "        fig.write_image(f\"{save_dir}/{'-'.join(libs)}_scatters.png\")\n",
    "        fig.write_image(f\"{save_dir}/{'-'.join(libs)}_scatters.svg\")\n",
    "    fig.show()"
   ],
   "metadata": {
    "collapsed": false
   },
   "outputs": [],
   "execution_count": null
  },
  {
   "cell_type": "code",
   "source": [
    "# lib_combinations = [(l1, l2) for l1 in libs_to_load for l2 in libs_to_load if l1 != l2]\n",
    "lib_combinations = [\n",
    "    # ('oldS6', 'newerS6'),\n",
    "    # ('oldN2', 'newerN2'),\n",
    "    # ('oldN2', 'oldS6'),\n",
    "    ('newerN2', 'newerS6'),\n",
    "    # ('newerN2', 'newerS5'),\n",
    "    ('newerS6', 'thirdS6'),\n",
    "    ('newerN2', 'thirdS6'),\n",
    "    \n",
    "]\n",
    "\n",
    "output_directory = f\"/home/marcus/Insync/mviscard@ucsc.edu/Google Drive/insync_folder/NMD_cleavage_and_deadenylation_paper/raw_figures_from_python/{npCommon.get_dt()}_scatterPlots\"\n",
    "\n",
    "for lib_1, lib_2 in lib_combinations:\n",
    "    plot_rockets(lib_1, lib_2, plot_df, save_dir=output_directory, force_limits=True)"
   ],
   "metadata": {
    "collapsed": false
   },
   "outputs": [],
   "execution_count": null
  },
  {
   "cell_type": "code",
   "source": [
    "libs_to_plot = ['newerN2', 'newerS6', 'newerS5', 'thirdN2', 'thirdS5', 'thirdS6']\n",
    "\n",
    "plot_rocket_grid(libs_to_plot,\n",
    "                 plot_df,\n",
    "                 save_dir=output_directory,\n",
    "                 force_limits=True)"
   ],
   "metadata": {
    "collapsed": false
   },
   "outputs": [],
   "execution_count": null
  },
  {
   "cell_type": "code",
   "source": [],
   "metadata": {
    "collapsed": false
   },
   "outputs": [],
   "execution_count": null
  }
 ],
 "metadata": {
  "kernelspec": {
   "display_name": "Python 3",
   "language": "python",
   "name": "python3"
  },
  "language_info": {
   "codemirror_mode": {
    "name": "ipython",
    "version": 2
   },
   "file_extension": ".py",
   "mimetype": "text/x-python",
   "name": "python",
   "nbconvert_exporter": "python",
   "pygments_lexer": "ipython2",
   "version": "2.7.6"
  }
 },
 "nbformat": 4,
 "nbformat_minor": 0
}
