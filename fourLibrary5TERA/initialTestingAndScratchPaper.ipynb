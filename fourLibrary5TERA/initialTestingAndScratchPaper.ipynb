{
 "cells": [
  {
   "cell_type": "markdown",
   "source": [
    "# initialTestingAndScratchPaper.ipynb\n",
    "## Marcus Viscardi,    December 21, 2022\n",
    "\n",
    "This is a script to get initial ideas down on how to analyse the four libraries I produced on 12/16/2022\n",
    "These libraries were:\n",
    "1. **sMV025:** xrn-1 knockdown + tagged xrn-1 + 5TERA\n",
    "2. **sMV026:** xrn-1 knockdown + tagged xrn-1 + smg-5 allele + 5TERA\n",
    "3. **sMV026:** xrn-1 knockdown + tagged xrn-1 + smg-6 allele + 5TERA\n",
    "4. **sMV026:** xrn-1 knockdown + tagged xrn-1 + smg-7 allele + 5TERA\n",
    "\n",
    "Josh thinks I should initially try to compare general metrics between my new libraries and my two old libaries from ~ this time last year:\n",
    "1. **sMV002:** xrn-1 knockdown + tagged xrn-1 + 5TERA (9/18/2021)\n",
    "2. **sMV003:** xrn-1 knockdown + tagged xrn-1 + smg-6 allele + 5TERA (12/10/2021)\n",
    "\n",
    "An initial assessment I want to run is plotting the \"fraction adapted\" for each gene agaisnt eachother, comparing the various permutations of libraries."
   ],
   "metadata": {
    "collapsed": false
   }
  },
  {
   "cell_type": "code",
   "metadata": {
    "collapsed": true
   },
   "source": [
    "import sys\n",
    "sys.path.insert(0, '/data16/marcus/scripts/nanoporePipelineScripts')\n",
    "import nanoporePipelineCommon as npCommon\n",
    "\n",
    "import seaborn as sea\n",
    "import matplotlib.pyplot as plt\n",
    "import plotly.express as px\n",
    "import plotly.graph_objects as go\n",
    "\n",
    "import numpy as np\n",
    "import pandas as pd\n",
    "pd.set_option('display.width', 200)\n",
    "pd.set_option('display.max_columns', None)\n",
    "\n",
    "CONVERSION_DICT = {\"xrn-1-5tera\": \"oldN2\",\n",
    "                   \"xrn-1-5tera-smg-6\": \"oldS6\",\n",
    "                   \"5tera_xrn-1-KD_wt\": \"newN2\",\n",
    "                   \"5tera_xrn-1-KD_wt_rerun\": \"newerN2\",\n",
    "                   \"5tera_xrn-1-KD_smg-6_rerun\": \"newerS6\",\n",
    "                   \"5tera_xrn-1-KD_smg-5\": \"newS5\",\n",
    "                   \"5tera_xrn-1-KD_smg-6\": \"newS6\",\n",
    "                   \"5tera_xrn-1-KD_smg-7\": \"newS7\",\n",
    "                   \"sPM57\": \"sPM57\",\n",
    "                   \"sPM58\": \"sPM58\",\n",
    "                   }\n",
    "REV_CONVERSION_DICT = {val: key for key, val in CONVERSION_DICT.items()}\n",
    "\n",
    "print(f\"Imports done at {npCommon.get_dt(for_print=True)}\")"
   ],
   "outputs": [],
   "execution_count": null
  },
  {
   "cell_type": "code",
   "source": [
    "regenerate = False\n",
    "libs_to_load = sorted({\n",
    "    'oldN2',\n",
    "    'newN2',\n",
    "    'newerN2',\n",
    "    'oldS6',\n",
    "    'newS6',\n",
    "    'newerS6',\n",
    "    # 'newS5',\n",
    "    # 'newerS5',\n",
    "    # 'newS7',\n",
    "})\n",
    "\n",
    "try:\n",
    "    if regenerate:\n",
    "        raise ValueError\n",
    "    \n",
    "    reads_df_raw_path = npCommon.find_newest_matching_file(f\"./output_files/mega_merge_parquets/*_{'-'.join(libs_to_load)}_merged5TERA.reads_df.parquet\")\n",
    "    compressed_df_genes_raw_path = npCommon.find_newest_matching_file(f\"./output_files/mega_merge_parquets/*_{'-'.join(libs_to_load)}_merged5TERA.compressed_df.parquet\")\n",
    "    print(f\"Found preprocessed files at:\\n\\t{reads_df_raw_path}\\nand:\\n\\t{compressed_df_genes_raw_path}\")\n",
    "\n",
    "    reads_df_genes_raw = pd.read_parquet(reads_df_raw_path)\n",
    "    compressed_df_genes_raw = pd.read_parquet(compressed_df_genes_raw_path)\n",
    "except ValueError:\n",
    "    print(f\"Could not find preprocessed files matching these libs: {'/'.join(libs_to_load)}\\nGoing to create new ones from scratch! This will take longer.\")\n",
    "    reads_df_genes_raw, compressed_df_genes_raw = npCommon.load_and_merge_lib_parquets([REV_CONVERSION_DICT[lib] for lib in libs_to_load],\n",
    "                                                                                       drop_sub_n=1,\n",
    "                                                                                       add_tail_groupings=False,\n",
    "                                                                                       drop_failed_polya=False,\n",
    "                                                                                       group_by_t5=True,\n",
    "                                                                                       use_josh_assignment=False)\n",
    "    print(f\"Saving new parquets to speed up future runs.\")\n",
    "    reads_df_genes_raw.to_parquet(f\"./output_files/mega_merge_parquets/{npCommon.get_dt()}_{'-'.join(libs_to_load)}_merged5TERA.reads_df.parquet\")\n",
    "    compressed_df_genes_raw.to_parquet(f\"./output_files/mega_merge_parquets/{npCommon.get_dt()}_{'-'.join(libs_to_load)}_merged5TERA.compressed_df.parquet\")\n",
    "print(f\"Lib load done @ {npCommon.get_dt(for_print=True)}\")"
   ],
   "metadata": {
    "collapsed": false
   },
   "outputs": [],
   "execution_count": null
  },
  {
   "cell_type": "code",
   "source": [
    "compressed_df_genes_raw.query(\"lib == 'sPM58'\").query(\"gene_id == 'unc-54'\")"
   ],
   "metadata": {
    "collapsed": false
   },
   "outputs": [],
   "execution_count": null
  },
  {
   "cell_type": "code",
   "source": [
    "compressed_df_genes = compressed_df_genes_raw.copy(deep=True).set_index([\"lib\", \"chr_id\", \"gene_id\", \"gene_name\"])\n",
    "reads_df_genes = reads_df_genes_raw.copy(deep=True).set_index([\"lib\", \"chr_id\", \"gene_id\", \"gene_name\", \"read_id\"])\n",
    "compressed_df_genes.groupby([\"lib\", \"t5\"])['gene_hits'].sum()"
   ],
   "metadata": {
    "collapsed": false
   },
   "outputs": [],
   "execution_count": null
  },
  {
   "cell_type": "code",
   "source": [
    "min_gene_hits = 1\n",
    "\n",
    "df = pd.concat([compressed_df_genes.query(\"t5 == '-'\")[[\"gene_hits\", \"gene_rpm\"]], compressed_df_genes.query(\"t5 == '+'\")[[\"gene_hits\", \"gene_rpm\"]]], axis=1)\n",
    "df.columns = ['unadapted_hits', 'unadapted_rpm', 'adapted_hits', 'adapted_rpm']\n",
    "df.fillna(0, inplace=True)\n",
    "df['total_hits'] = df['adapted_hits'] + df['unadapted_hits']\n",
    "df['total_rpm'] = df['adapted_rpm'] + df['unadapted_rpm']\n",
    "df['fraction_adapted'] = df['adapted_hits'] / df['total_hits']\n",
    "df = df.sort_values('fraction_adapted', ascending=False).query(f\"total_hits > {min_gene_hits}\")\n",
    "\n",
    "df_list = []\n",
    "for lib_name in df.index.unique(level=\"lib\"):\n",
    "    if lib_name not in [\"xrn-1-5tera\", \"xrn-1-5tera-smg-6\"]:\n",
    "        df_list.append(df.query(f\"lib == '{lib_name}'\").add_suffix(f\"_{lib_name.lstrip('5tera_xrn-1-KD_')}\").droplevel(\"lib\"))\n",
    "remerge_df = pd.concat(df_list, axis=1).sort_values(\"gene_id\")\n",
    "remerge_df.fillna(0, inplace=True)\n",
    "remerge_df"
   ],
   "metadata": {
    "collapsed": false
   },
   "outputs": [],
   "execution_count": null
  },
  {
   "cell_type": "code",
   "source": [
    "def plot_scatter(input_df, x_lib_suffix, y_lib_suffix,\n",
    "                 shared_read_count_minimum=20, drop_MtDNA=True,\n",
    "                 compare_prefix=\"total_rpm\", log_axes=True,\n",
    "                 color_by=None,\n",
    "                 ):\n",
    "    # shared_read_count_minimum = 50\n",
    "    # drop_MtDNA = True\n",
    "    # x_lib_suffix = \"smg-6\"\n",
    "    # y_lib_suffix = \"smg-5\"\n",
    "    # compare_prefix = \"total_rpm\"  # \"fraction_adapted\" or \"total_hits\" or \"total_rpm\"\n",
    "    # color_by = \"fraction_adapted_smg-6\"\n",
    "    # log_axes = True\n",
    "    \n",
    "    plot_df = input_df[[col for col in input_df.columns\n",
    "                        if col.endswith(x_lib_suffix) or col.endswith(y_lib_suffix)]].reset_index()\n",
    "    plot_df['shared_hits'] = plot_df[f\"total_hits_{x_lib_suffix}\"] + plot_df[f\"total_hits_{y_lib_suffix}\"]\n",
    "    plot_df = plot_df[plot_df['shared_hits'] >= shared_read_count_minimum]\n",
    "    if drop_MtDNA:\n",
    "        plot_df = plot_df.query(\"chr_id != 'MtDNA'\")\n",
    "    fig = px.scatter(plot_df,\n",
    "                     x=f\"{compare_prefix}_{x_lib_suffix}\",\n",
    "                     y=f\"{compare_prefix}_{y_lib_suffix}\",\n",
    "                     # size=\"shared_hits\",\n",
    "                     log_x=log_axes, log_y=log_axes,\n",
    "                     hover_name=\"gene_name\",\n",
    "                     color=color_by,\n",
    "                     hover_data=[f\"total_hits_{x_lib_suffix}\",\n",
    "                                 f\"total_hits_{y_lib_suffix}\", ],\n",
    "                     height=800, width=800,\n",
    "                     template='plotly_white',\n",
    "                     )\n",
    "    fig.update_layout(shapes=[{'type': 'line', 'yref': 'paper', 'xref': 'paper', 'y0': 0, 'y1': 1, 'x0': 0, 'x1': 1}])\n",
    "    fig.show()\n",
    "    return fig, plot_df\n",
    "\n",
    "\n",
    "figure, plotted_df = plot_scatter(remerge_df, \"wt\", \"smg-5\",\n",
    "                                  compare_prefix=\"adapted_rpm\",\n",
    "                                  log_axes=False,\n",
    "                                  shared_read_count_minimum=100)\n",
    "figure, plotted_df = plot_scatter(remerge_df, \"wt\", \"smg-7\",\n",
    "                                  compare_prefix=\"adapted_rpm\",\n",
    "                                  log_axes=False,\n",
    "                                  shared_read_count_minimum=100)\n",
    "plotted_df"
   ],
   "metadata": {
    "collapsed": false
   },
   "outputs": [],
   "execution_count": null
  },
  {
   "cell_type": "code",
   "source": [
    "remerge_df[sorted([col for col in remerge_df.columns\n",
    "                   if col.startswith(('adapted', 'total', 'fraction'))])]\\\n",
    "    .query(\"gene_name == 'F23A7.8'\")"
   ],
   "metadata": {
    "collapsed": false
   },
   "outputs": [],
   "execution_count": null
  },
  {
   "cell_type": "code",
   "source": [
    "compressed_df_genes.groupby([\"lib\", \"t5\"])[['gene_rpm', 'gene_hits']].sum()"
   ],
   "metadata": {
    "collapsed": false
   },
   "outputs": [],
   "execution_count": null
  },
  {
   "cell_type": "markdown",
   "source": [
    "# Jump to here if loading from file:"
   ],
   "metadata": {
    "collapsed": false
   }
  },
  {
   "cell_type": "code",
   "source": [
    "save_file_suffix = \"quad5TERA.counts.parquet\"\n",
    "try:\n",
    "    remerge_df.to_parquet(f\"./output_files/{npCommon.get_dt(for_file=True)}_{save_file_suffix}\")\n",
    "except NameError:\n",
    "    remerge_df = pd.read_parquet(npCommon.find_newest_matching_file(f\"./output_files/*_{save_file_suffix}\"))"
   ],
   "metadata": {
    "collapsed": false
   },
   "outputs": [],
   "execution_count": null
  },
  {
   "cell_type": "code",
   "source": [
    "# Recalculate an adapted and unadapted rpm for each library. This will allow for a DIFFERENT kind of global effect adjustment\n",
    "# This will oppose looking at the raw read counts adapted fraction and comparing that to overall adapted percentage\n",
    "\n",
    "# rpmA will represent this adjusted RPM that uses the total count of adapted or unadapted, rather than overall counts\n",
    "\n",
    "total_counts_dict = compressed_df_genes.groupby([\"lib\", \"t5\"])[['gene_rpm', 'gene_hits']].sum().to_dict()['gene_hits']\n",
    "library_keys = ['wt', 'smg-5', 'smg-6', 'smg-7']\n",
    "for lib in library_keys:\n",
    "    remerge_df[f'adapted_rpmA_{lib}'] = remerge_df[f'adapted_hits_{lib}'] / (total_counts_dict[(f'5tera_xrn-1-KD_{lib}', '+')] / 1_000_000)\n",
    "    remerge_df[f'unadapted_rpmA_{lib}'] = remerge_df[f'unadapted_hits_{lib}'] / (total_counts_dict[(f'5tera_xrn-1-KD_{lib}', '-')] / 1_000_000)\n",
    "remerge_df[sorted([col for col in remerge_df.columns if \"rpmA\" in col])].sort_values('adapted_rpmA_wt', ascending=False)"
   ],
   "metadata": {
    "collapsed": false
   },
   "outputs": [],
   "execution_count": null
  },
  {
   "cell_type": "code",
   "source": [
    "remerge_plot_df = remerge_df[sorted([col for col in remerge_df.columns if \"rpmA\" in col or col=='gene_name'])].sort_values('adapted_rpmA_wt', ascending=False)\n",
    "\n",
    "# fig = px.scatter_matrix(remerge_df.reset_index(),\n",
    "#                         dimensions=[col for col in remerge_df if col.startswith(\"adapted_rpmA\")],\n",
    "#                         hover_name='gene_name',\n",
    "#                         )\n",
    "log_dict = {'type': 'log'}\n",
    "\n",
    "plot_df = remerge_df.reset_index()\n",
    "dims = [dict(label=f\"adapted rpmA<br>log({col.lstrip('adapted_rpmA_')})\", values=plot_df[col]+100) for col in plot_df.columns\n",
    "        if col.startswith(\"adapted_rpmA\") ]\n",
    "color_vals = plot_df['chr_id'].astype('category').cat.codes\n",
    "fig = go.Figure(data=go.Splom(dimensions=dims,\n",
    "                              text=plot_df['gene_name'],\n",
    "                              showupperhalf=False,\n",
    "                              diagonal=dict(visible=False),\n",
    "                              marker=dict(color=color_vals,\n",
    "                                          showscale=False),\n",
    "))\n",
    "fig.update_layout(template='plotly_white',\n",
    "                  xaxis=log_dict,\n",
    "                  xaxis2=log_dict,\n",
    "                  xaxis3=log_dict,\n",
    "                  xaxis4=log_dict,\n",
    "                  yaxis=log_dict,\n",
    "                  yaxis2=log_dict,\n",
    "                  yaxis3=log_dict,\n",
    "                  yaxis4=log_dict,\n",
    "                  )\n",
    "fig.write_html(f\"./output_files/{npCommon.get_dt(for_file=True)}_readjustedAdaptedRPM.scatterMatrix.html\")"
   ],
   "metadata": {
    "collapsed": false
   },
   "outputs": [],
   "execution_count": null
  },
  {
   "cell_type": "code",
   "source": [
    "# remerge_df.groupby([\"gene_id\", \"gene_name\"])[[col for col in remerge_df.columns if col.startswith(\"unadapted_hits\")]].sum()\n",
    "compressed_df_genes_copy = compressed_df_genes.copy()\n",
    "compressed_df_genes_copy.reset_index(inplace=True)\n",
    "compressed_df_genes_copy['adapted_weirdness'] = (compressed_df_genes_copy.chr_id == 'MtDNA') | (compressed_df_genes_copy.gene_id == 'F23A7.4') | (compressed_df_genes_copy.gene_id == 'F23A7.8')\n",
    "(compressed_df_genes_copy.groupby([\"lib\",\n",
    "                                  \"t5\",\n",
    "                                  \"adapted_weirdness\",\n",
    "                                  ])[['gene_rpm', 'gene_hits']].sum()['gene_rpm'] / 1_000_000).reset_index().query(\n",
    "    \"t5 == '+' & adapted_weirdness == True\"\n",
    ")\n",
    "\n",
    "# Note that rpm is no longer \"rpm\"!!!"
   ],
   "metadata": {
    "collapsed": false
   },
   "outputs": [],
   "execution_count": null
  },
  {
   "cell_type": "code",
   "source": [],
   "metadata": {
    "collapsed": false
   },
   "outputs": [],
   "execution_count": null
  }
 ],
 "metadata": {
  "kernelspec": {
   "display_name": "Python 3",
   "language": "python",
   "name": "python3"
  },
  "language_info": {
   "codemirror_mode": {
    "name": "ipython",
    "version": 2
   },
   "file_extension": ".py",
   "mimetype": "text/x-python",
   "name": "python",
   "nbconvert_exporter": "python",
   "pygments_lexer": "ipython2",
   "version": "2.7.6"
  }
 },
 "nbformat": 4,
 "nbformat_minor": 0
}
