{
 "cells": [
  {
   "cell_type": "markdown",
   "source": [
    "# comparingTailLengths.ipynb\n",
    "## Marcus Viscardi,    January 16, 2023\n",
    "\n",
    "General goal to just look at the tail length distibutions of a couple genes.\n",
    "\n",
    "I think *odc-1* is of particular interest b/c it has only one isoform, but that one isoform looks NMD sensitive! This would mean that all the reads mapping are likely relevant to NMD. The counter-example would be a gene like *ubl-1* in which ~most of the reads are not related to NMD, and I have no good way to parse out which are which.\n",
    "\n",
    "**update 1/17/23:** So we seem to have a problem with the really low number of adapted reads for basically all genes, even in N2 libraries. The two pilot libs seem to have way better depth and adapted species coverage... For example. In my newN2 lib, *odc-1* only has **4** adapted reads!"
   ],
   "metadata": {
    "collapsed": false
   }
  },
  {
   "cell_type": "code",
   "execution_count": 19,
   "outputs": [
    {
     "name": "stdout",
     "output_type": "stream",
     "text": [
      "Imports done at 01/26/24 @ 04:02:30 PM\n"
     ]
    }
   ],
   "source": [
    "import os\n",
    "import sys\n",
    "sys.path.insert(0, '/data16/marcus/scripts/nanoporePipelineScripts')\n",
    "import nanoporePipelineCommon as npCommon\n",
    "\n",
    "import pandas as pd\n",
    "import seaborn as sea\n",
    "import matplotlib.pyplot as plt\n",
    "\n",
    "import plotly.express as px\n",
    "import plotly.graph_objects as go\n",
    "from plotly.subplots import make_subplots\n",
    "import plotly.io as pio\n",
    "pio.renderers.default = \"browser\"\n",
    "\n",
    "print(f\"Imports done at {npCommon.get_dt(for_print=True)}\")"
   ],
   "metadata": {
    "collapsed": false,
    "ExecuteTime": {
     "end_time": "2024-01-27T00:02:30.474798816Z",
     "start_time": "2024-01-27T00:02:30.231926766Z"
    }
   }
  },
  {
   "cell_type": "code",
   "execution_count": 20,
   "metadata": {
    "collapsed": true,
    "ExecuteTime": {
     "end_time": "2024-01-27T00:02:40.408531924Z",
     "start_time": "2024-01-27T00:02:30.273518121Z"
    }
   },
   "outputs": [
    {
     "name": "stdout",
     "output_type": "stream",
     "text": [
      "Finished library loading at 01/26/24 @ 04:02:40 PM\n"
     ]
    }
   ],
   "source": [
    "libs_to_load = sorted({\n",
    "    'oldN2',\n",
    "    'newN2',\n",
    "    'newerN2',\n",
    "    'oldS6',\n",
    "    'newS6',\n",
    "    'newerS6',\n",
    "    # 'newS5',\n",
    "    # 'newerS5',\n",
    "    # 'newS7',\n",
    "})\n",
    "\n",
    "try:\n",
    "    reads_df_path = npCommon.find_newest_matching_file(f\"./output_files/mega_merge_parquets/*_{'-'.join(libs_to_load)}_merged5TERA.reads_df.parquet\")\n",
    "    compressed_df_genes_path = npCommon.find_newest_matching_file(f\"./output_files/mega_merge_parquets/*_{'-'.join(libs_to_load)}_merged5TERA.compressed_df.parquet\")\n",
    "    reads_df_genes = pd.read_parquet(reads_df_path)\n",
    "    compressed_df_genes = pd.read_parquet(compressed_df_genes_path)\n",
    "    conversion_dict = {\"xrn-1-5tera\": \"oldN2\",\n",
    "                       \"xrn-1-5tera-smg-6\": \"oldS6\",\n",
    "                       \"5tera_xrn-1-KD_wt\": \"newN2\",\n",
    "                       \"5tera_xrn-1-KD_smg-5\": \"newS5\",\n",
    "                       \"5tera_xrn-1-KD_smg-6\": \"newS6\",\n",
    "                       \"5tera_xrn-1-KD_smg-7\": \"newS7\",\n",
    "                       }\n",
    "    reads_df_genes.replace(conversion_dict, inplace=True)\n",
    "    compressed_df_genes.replace(conversion_dict, inplace=True)\n",
    "    print(f\"Finished library loading at {npCommon.get_dt(for_print=True)}\")\n",
    "except FileNotFoundError:\n",
    "    reads_df_genes, compressed_df_genes = None, None\n",
    "    print(\"Could not find pre-compressed dataframes saved. Try running the first few cells of initialTestingAndScratchPaper.ipynb\")\n",
    "    raise FileNotFoundError"
   ]
  },
  {
   "cell_type": "code",
   "execution_count": 21,
   "outputs": [
    {
     "data": {
      "text/plain": "                              lib         gene_id gene_name t5  gene_hits  mean_polya_length  \\\n25108  5tera_xrn-1-KD_smg-6_rerun  WBGene00017687     ets-4  -          3            125.635   \n25109  5tera_xrn-1-KD_smg-6_rerun  WBGene00017687     ets-4  +          2            112.680   \n51315     5tera_xrn-1-KD_wt_rerun  WBGene00017687     ets-4  -          2            112.865   \n\n       median_polya_length  \n25108              125.635  \n25109              112.680  \n51315              112.865  ",
      "text/html": "<div>\n<style scoped>\n    .dataframe tbody tr th:only-of-type {\n        vertical-align: middle;\n    }\n\n    .dataframe tbody tr th {\n        vertical-align: top;\n    }\n\n    .dataframe thead th {\n        text-align: right;\n    }\n</style>\n<table border=\"1\" class=\"dataframe\">\n  <thead>\n    <tr style=\"text-align: right;\">\n      <th></th>\n      <th>lib</th>\n      <th>gene_id</th>\n      <th>gene_name</th>\n      <th>t5</th>\n      <th>gene_hits</th>\n      <th>mean_polya_length</th>\n      <th>median_polya_length</th>\n    </tr>\n  </thead>\n  <tbody>\n    <tr>\n      <th>25108</th>\n      <td>5tera_xrn-1-KD_smg-6_rerun</td>\n      <td>WBGene00017687</td>\n      <td>ets-4</td>\n      <td>-</td>\n      <td>3</td>\n      <td>125.635</td>\n      <td>125.635</td>\n    </tr>\n    <tr>\n      <th>25109</th>\n      <td>5tera_xrn-1-KD_smg-6_rerun</td>\n      <td>WBGene00017687</td>\n      <td>ets-4</td>\n      <td>+</td>\n      <td>2</td>\n      <td>112.680</td>\n      <td>112.680</td>\n    </tr>\n    <tr>\n      <th>51315</th>\n      <td>5tera_xrn-1-KD_wt_rerun</td>\n      <td>WBGene00017687</td>\n      <td>ets-4</td>\n      <td>-</td>\n      <td>2</td>\n      <td>112.865</td>\n      <td>112.865</td>\n    </tr>\n  </tbody>\n</table>\n</div>"
     },
     "execution_count": 21,
     "metadata": {},
     "output_type": "execute_result"
    }
   ],
   "source": [
    "compressed_df_genes.query(\"gene_name == 'ets-4'\")[[\"lib\", 'gene_id', 'gene_name', 't5', 'gene_hits', 'mean_polya_length', 'median_polya_length']]"
   ],
   "metadata": {
    "collapsed": false,
    "ExecuteTime": {
     "end_time": "2024-01-27T00:02:40.409934219Z",
     "start_time": "2024-01-27T00:02:40.393362610Z"
    }
   }
  },
  {
   "cell_type": "code",
   "outputs": [
    {
     "data": {
      "text/plain": "I        459655\nIII      419767\nIV       418143\nV        317866\nII       310901\nX        201853\nMtDNA     46403\nName: chr_id, dtype: int64"
     },
     "execution_count": 27,
     "metadata": {},
     "output_type": "execute_result"
    }
   ],
   "source": [
    "reads_df_genes.chr_id.value_counts()"
   ],
   "metadata": {
    "collapsed": false,
    "ExecuteTime": {
     "end_time": "2024-01-27T00:04:05.210870772Z",
     "start_time": "2024-01-27T00:04:04.885734234Z"
    }
   },
   "execution_count": 27
  },
  {
   "cell_type": "code",
   "execution_count": 22,
   "outputs": [
    {
     "ename": "KeyError",
     "evalue": "'+'",
     "output_type": "error",
     "traceback": [
      "\u001B[0;31m---------------------------------------------------------------------------\u001B[0m",
      "\u001B[0;31mKeyError\u001B[0m                                  Traceback (most recent call last)",
      "\u001B[0;32m/tmp/ipykernel_1425843/3033280849.py\u001B[0m in \u001B[0;36m<module>\u001B[0;34m\u001B[0m\n\u001B[1;32m      4\u001B[0m     \u001B[0mplot_df\u001B[0m \u001B[0;34m=\u001B[0m \u001B[0mreads_df_genes\u001B[0m\u001B[0;34m.\u001B[0m\u001B[0mquery\u001B[0m\u001B[0;34m(\u001B[0m\u001B[0;34mf\"gene_name == '{target_gene}'\"\u001B[0m\u001B[0;34m)\u001B[0m\u001B[0;34m.\u001B[0m\u001B[0mquery\u001B[0m\u001B[0;34m(\u001B[0m\u001B[0;34mf\"lib == '{lib}'\"\u001B[0m\u001B[0;34m)\u001B[0m\u001B[0;34m\u001B[0m\u001B[0;34m\u001B[0m\u001B[0m\n\u001B[1;32m      5\u001B[0m \u001B[0;34m\u001B[0m\u001B[0m\n\u001B[0;32m----> 6\u001B[0;31m     fig = px.ecdf(plot_df,\n\u001B[0m\u001B[1;32m      7\u001B[0m                   \u001B[0mcolor\u001B[0m\u001B[0;34m=\u001B[0m\u001B[0;34m't5'\u001B[0m\u001B[0;34m,\u001B[0m\u001B[0;34m\u001B[0m\u001B[0;34m\u001B[0m\u001B[0m\n\u001B[1;32m      8\u001B[0m                   \u001B[0mx\u001B[0m\u001B[0;34m=\u001B[0m\u001B[0;34m'polya_length'\u001B[0m\u001B[0;34m,\u001B[0m\u001B[0;34m\u001B[0m\u001B[0;34m\u001B[0m\u001B[0m\n",
      "\u001B[0;32m/usr/local/lib/python3.8/dist-packages/plotly/express/_chart_types.py\u001B[0m in \u001B[0;36mecdf\u001B[0;34m(data_frame, x, y, color, text, line_dash, symbol, facet_row, facet_col, facet_col_wrap, facet_row_spacing, facet_col_spacing, hover_name, hover_data, animation_frame, animation_group, markers, lines, category_orders, labels, color_discrete_sequence, color_discrete_map, line_dash_sequence, line_dash_map, symbol_sequence, symbol_map, marginal, opacity, orientation, ecdfnorm, ecdfmode, render_mode, log_x, log_y, range_x, range_y, title, template, width, height)\u001B[0m\n\u001B[1;32m    552\u001B[0m     \u001B[0;32mas\u001B[0m \u001B[0ma\u001B[0m \u001B[0mline\u001B[0m\u001B[0;34m.\u001B[0m\u001B[0;34m\u001B[0m\u001B[0;34m\u001B[0m\u001B[0m\n\u001B[1;32m    553\u001B[0m     \"\"\"\n\u001B[0;32m--> 554\u001B[0;31m     \u001B[0;32mreturn\u001B[0m \u001B[0mmake_figure\u001B[0m\u001B[0;34m(\u001B[0m\u001B[0margs\u001B[0m\u001B[0;34m=\u001B[0m\u001B[0mlocals\u001B[0m\u001B[0;34m(\u001B[0m\u001B[0;34m)\u001B[0m\u001B[0;34m,\u001B[0m \u001B[0mconstructor\u001B[0m\u001B[0;34m=\u001B[0m\u001B[0mgo\u001B[0m\u001B[0;34m.\u001B[0m\u001B[0mScatter\u001B[0m\u001B[0;34m)\u001B[0m\u001B[0;34m\u001B[0m\u001B[0;34m\u001B[0m\u001B[0m\n\u001B[0m\u001B[1;32m    555\u001B[0m \u001B[0;34m\u001B[0m\u001B[0m\n\u001B[1;32m    556\u001B[0m \u001B[0;34m\u001B[0m\u001B[0m\n",
      "\u001B[0;32m/usr/local/lib/python3.8/dist-packages/plotly/express/_core.py\u001B[0m in \u001B[0;36mmake_figure\u001B[0;34m(args, constructor, trace_patch, layout_patch)\u001B[0m\n\u001B[1;32m   2087\u001B[0m     )\n\u001B[1;32m   2088\u001B[0m     \u001B[0mgrouper\u001B[0m \u001B[0;34m=\u001B[0m \u001B[0;34m[\u001B[0m\u001B[0mx\u001B[0m\u001B[0;34m.\u001B[0m\u001B[0mgrouper\u001B[0m \u001B[0;32mor\u001B[0m \u001B[0mone_group\u001B[0m \u001B[0;32mfor\u001B[0m \u001B[0mx\u001B[0m \u001B[0;32min\u001B[0m \u001B[0mgrouped_mappings\u001B[0m\u001B[0;34m]\u001B[0m \u001B[0;32mor\u001B[0m \u001B[0;34m[\u001B[0m\u001B[0mone_group\u001B[0m\u001B[0;34m]\u001B[0m\u001B[0;34m\u001B[0m\u001B[0;34m\u001B[0m\u001B[0m\n\u001B[0;32m-> 2089\u001B[0;31m     \u001B[0mgroups\u001B[0m\u001B[0;34m,\u001B[0m \u001B[0morders\u001B[0m \u001B[0;34m=\u001B[0m \u001B[0mget_groups_and_orders\u001B[0m\u001B[0;34m(\u001B[0m\u001B[0margs\u001B[0m\u001B[0;34m,\u001B[0m \u001B[0mgrouper\u001B[0m\u001B[0;34m)\u001B[0m\u001B[0;34m\u001B[0m\u001B[0;34m\u001B[0m\u001B[0m\n\u001B[0m\u001B[1;32m   2090\u001B[0m \u001B[0;34m\u001B[0m\u001B[0m\n\u001B[1;32m   2091\u001B[0m     \u001B[0mcol_labels\u001B[0m \u001B[0;34m=\u001B[0m \u001B[0;34m[\u001B[0m\u001B[0;34m]\u001B[0m\u001B[0;34m\u001B[0m\u001B[0;34m\u001B[0m\u001B[0m\n",
      "\u001B[0;32m/usr/local/lib/python3.8/dist-packages/plotly/express/_core.py\u001B[0m in \u001B[0;36mget_groups_and_orders\u001B[0;34m(args, grouper)\u001B[0m\n\u001B[1;32m   2062\u001B[0m         \u001B[0mfull_sorted_group_names\u001B[0m \u001B[0;34m=\u001B[0m \u001B[0;34m[\u001B[0m\u001B[0mtuple\u001B[0m\u001B[0;34m(\u001B[0m\u001B[0mg\u001B[0m\u001B[0;34m)\u001B[0m \u001B[0;32mfor\u001B[0m \u001B[0mg\u001B[0m \u001B[0;32min\u001B[0m \u001B[0mfull_sorted_group_names\u001B[0m\u001B[0;34m]\u001B[0m\u001B[0;34m\u001B[0m\u001B[0;34m\u001B[0m\u001B[0m\n\u001B[1;32m   2063\u001B[0m \u001B[0;34m\u001B[0m\u001B[0m\n\u001B[0;32m-> 2064\u001B[0;31m         groups = {\n\u001B[0m\u001B[1;32m   2065\u001B[0m             \u001B[0msf\u001B[0m\u001B[0;34m:\u001B[0m \u001B[0mgrouped\u001B[0m\u001B[0;34m.\u001B[0m\u001B[0mget_group\u001B[0m\u001B[0;34m(\u001B[0m\u001B[0ms\u001B[0m \u001B[0;32mif\u001B[0m \u001B[0mlen\u001B[0m\u001B[0;34m(\u001B[0m\u001B[0ms\u001B[0m\u001B[0;34m)\u001B[0m \u001B[0;34m>\u001B[0m \u001B[0;36m1\u001B[0m \u001B[0;32melse\u001B[0m \u001B[0ms\u001B[0m\u001B[0;34m[\u001B[0m\u001B[0;36m0\u001B[0m\u001B[0;34m]\u001B[0m\u001B[0;34m)\u001B[0m\u001B[0;34m\u001B[0m\u001B[0;34m\u001B[0m\u001B[0m\n\u001B[1;32m   2066\u001B[0m             \u001B[0;32mfor\u001B[0m \u001B[0msf\u001B[0m\u001B[0;34m,\u001B[0m \u001B[0ms\u001B[0m \u001B[0;32min\u001B[0m \u001B[0mzip\u001B[0m\u001B[0;34m(\u001B[0m\u001B[0mfull_sorted_group_names\u001B[0m\u001B[0;34m,\u001B[0m \u001B[0msorted_group_names\u001B[0m\u001B[0;34m)\u001B[0m\u001B[0;34m\u001B[0m\u001B[0;34m\u001B[0m\u001B[0m\n",
      "\u001B[0;32m/usr/local/lib/python3.8/dist-packages/plotly/express/_core.py\u001B[0m in \u001B[0;36m<dictcomp>\u001B[0;34m(.0)\u001B[0m\n\u001B[1;32m   2063\u001B[0m \u001B[0;34m\u001B[0m\u001B[0m\n\u001B[1;32m   2064\u001B[0m         groups = {\n\u001B[0;32m-> 2065\u001B[0;31m             \u001B[0msf\u001B[0m\u001B[0;34m:\u001B[0m \u001B[0mgrouped\u001B[0m\u001B[0;34m.\u001B[0m\u001B[0mget_group\u001B[0m\u001B[0;34m(\u001B[0m\u001B[0ms\u001B[0m \u001B[0;32mif\u001B[0m \u001B[0mlen\u001B[0m\u001B[0;34m(\u001B[0m\u001B[0ms\u001B[0m\u001B[0;34m)\u001B[0m \u001B[0;34m>\u001B[0m \u001B[0;36m1\u001B[0m \u001B[0;32melse\u001B[0m \u001B[0ms\u001B[0m\u001B[0;34m[\u001B[0m\u001B[0;36m0\u001B[0m\u001B[0;34m]\u001B[0m\u001B[0;34m)\u001B[0m\u001B[0;34m\u001B[0m\u001B[0;34m\u001B[0m\u001B[0m\n\u001B[0m\u001B[1;32m   2066\u001B[0m             \u001B[0;32mfor\u001B[0m \u001B[0msf\u001B[0m\u001B[0;34m,\u001B[0m \u001B[0ms\u001B[0m \u001B[0;32min\u001B[0m \u001B[0mzip\u001B[0m\u001B[0;34m(\u001B[0m\u001B[0mfull_sorted_group_names\u001B[0m\u001B[0;34m,\u001B[0m \u001B[0msorted_group_names\u001B[0m\u001B[0;34m)\u001B[0m\u001B[0;34m\u001B[0m\u001B[0;34m\u001B[0m\u001B[0m\n\u001B[1;32m   2067\u001B[0m         }\n",
      "\u001B[0;32m/usr/local/lib/python3.8/dist-packages/pandas/core/groupby/groupby.py\u001B[0m in \u001B[0;36mget_group\u001B[0;34m(self, name, obj)\u001B[0m\n\u001B[1;32m    809\u001B[0m         \u001B[0minds\u001B[0m \u001B[0;34m=\u001B[0m \u001B[0mself\u001B[0m\u001B[0;34m.\u001B[0m\u001B[0m_get_index\u001B[0m\u001B[0;34m(\u001B[0m\u001B[0mname\u001B[0m\u001B[0;34m)\u001B[0m\u001B[0;34m\u001B[0m\u001B[0;34m\u001B[0m\u001B[0m\n\u001B[1;32m    810\u001B[0m         \u001B[0;32mif\u001B[0m \u001B[0;32mnot\u001B[0m \u001B[0mlen\u001B[0m\u001B[0;34m(\u001B[0m\u001B[0minds\u001B[0m\u001B[0;34m)\u001B[0m\u001B[0;34m:\u001B[0m\u001B[0;34m\u001B[0m\u001B[0;34m\u001B[0m\u001B[0m\n\u001B[0;32m--> 811\u001B[0;31m             \u001B[0;32mraise\u001B[0m \u001B[0mKeyError\u001B[0m\u001B[0;34m(\u001B[0m\u001B[0mname\u001B[0m\u001B[0;34m)\u001B[0m\u001B[0;34m\u001B[0m\u001B[0;34m\u001B[0m\u001B[0m\n\u001B[0m\u001B[1;32m    812\u001B[0m \u001B[0;34m\u001B[0m\u001B[0m\n\u001B[1;32m    813\u001B[0m         \u001B[0;32mreturn\u001B[0m \u001B[0mobj\u001B[0m\u001B[0;34m.\u001B[0m\u001B[0m_take_with_is_copy\u001B[0m\u001B[0;34m(\u001B[0m\u001B[0minds\u001B[0m\u001B[0;34m,\u001B[0m \u001B[0maxis\u001B[0m\u001B[0;34m=\u001B[0m\u001B[0mself\u001B[0m\u001B[0;34m.\u001B[0m\u001B[0maxis\u001B[0m\u001B[0;34m)\u001B[0m\u001B[0;34m\u001B[0m\u001B[0;34m\u001B[0m\u001B[0m\n",
      "\u001B[0;31mKeyError\u001B[0m: '+'"
     ]
    }
   ],
   "source": [
    "target_gene = 'F19B2.5'\n",
    "\n",
    "for lib in ['oldN2', 'newN2', 'newS5']:\n",
    "    plot_df = reads_df_genes.query(f\"gene_name == '{target_gene}'\").query(f\"lib == '{lib}'\")\n",
    "    \n",
    "    fig = px.ecdf(plot_df,\n",
    "                  color='t5',\n",
    "                  x='polya_length',\n",
    "                  ecdfnorm='percent',\n",
    "                  marginal=\"rug\")\n",
    "    fig.update_layout(title=f\"{target_gene} for {lib}\")\n",
    "    fig.show()"
   ],
   "metadata": {
    "collapsed": false,
    "ExecuteTime": {
     "end_time": "2024-01-27T00:02:41.720783593Z",
     "start_time": "2024-01-27T00:02:40.393591777Z"
    }
   }
  },
  {
   "cell_type": "code",
   "execution_count": null,
   "outputs": [],
   "source": [
    "# target_genes = ['odc-1', 'F19B2.5', 'rpl-3', 'rpl-7A', 'rpl-30', 'ubl-1', 'nduo-5']\n",
    "# target_genes = ['rpl-7A', 'rpl-12', 'rpl-1', 'rpl-3']\n",
    "target_genes = ['rpl-26', 'odc-1', 'rpl-3', 'rpl-30', 'ets-4']\n",
    "target_libs = [\n",
    "    'oldN2',\n",
    "    'newN2',\n",
    "    #'newS5',\n",
    "    #'newS6',\n",
    "    #'oldS6',\n",
    "]\n",
    "\n",
    "for lib in target_libs:\n",
    "    plot_df = reads_df_genes.query(f\"lib == '{lib}'\")\n",
    "    sea.set()\n",
    "    sea.set_style(\"whitegrid\")\n",
    "    fig, axes = plt.subplots(1, len(target_genes), figsize=(2.5*len(target_genes), 4),\n",
    "                             sharey='all',\n",
    "                             #sharex='all',\n",
    "                             )\n",
    "    fig.suptitle(f\"eCDF plots of tail length from {lib} library\")\n",
    "    \n",
    "    for i, target_gene in enumerate(target_genes):\n",
    "        subplot_df = plot_df.query(f\"gene_name == '{target_gene}'\")\n",
    "        sea.ecdfplot(ax=axes[i],\n",
    "                     data=subplot_df,\n",
    "                     x='polya_length',\n",
    "                     hue='t5',\n",
    "                     palette={'-': 'black',\n",
    "                              '+': 'red'},\n",
    "                     linewidth=3)\n",
    "        axes[i].set_title(f\"{target_gene} in {lib}\")\n",
    "        axes[i].legend(title=f\"5TERA Adapted\",\n",
    "                       loc=\"lower right\",\n",
    "                       labels=[f\"No (n={subplot_df[subplot_df.t5 == '-'].count()['polya_length']}/{subplot_df[subplot_df.t5 == '-'].count()['lib']})\", f\"Yes (n={subplot_df[subplot_df.t5 == '+'].count()['polya_length']}/{subplot_df[subplot_df.t5 == '+'].count()['lib']})\"])\n",
    "    plt.tight_layout()\n",
    "    save_path = f\"./output_files/tail_lengths/{npCommon.get_dt()}_tailLengthCDFs_{lib}\"\n",
    "    for file_type in ['.svg', '.png']:\n",
    "        plt.savefig(save_path + file_type,\n",
    "                    dpi=300)\n",
    "    plt.show()"
   ],
   "metadata": {
    "collapsed": false,
    "ExecuteTime": {
     "start_time": "2024-01-27T00:02:41.717547607Z"
    }
   }
  },
  {
   "cell_type": "code",
   "execution_count": null,
   "outputs": [],
   "source": [
    "# See sticky note above my bench...\n",
    "\n",
    "gs_kw = dict(width_ratios=[1, 3, 2], height_ratios=[1, 1, 2, 1, 1, 2,])\n",
    "\n",
    "fig, axdict = plt.subplot_mosaic([['left', 'upper top', 'upper right'],\n",
    "                                  ['left', 'upper middle', 'upper right'],\n",
    "                                  ['left', 'upper bottom', 'upper right'],\n",
    "                                  ['left', 'lower top', 'lower right'],\n",
    "                                  ['left', 'lower middle', 'lower right'],\n",
    "                                  ['left', 'lower bottom', 'lower right'],\n",
    "                                 ],\n",
    "                                 gridspec_kw=gs_kw,\n",
    "                                 # constrained_layout=True,\n",
    "                                 figsize=(5, 7),\n",
    "                                 )\n",
    "axdict['left']\n",
    "# plt.tight_layout()"
   ],
   "metadata": {
    "collapsed": false,
    "ExecuteTime": {
     "end_time": "2024-01-27T00:02:41.768568209Z",
     "start_time": "2024-01-27T00:02:41.761575491Z"
    }
   }
  },
  {
   "cell_type": "code",
   "execution_count": null,
   "outputs": [],
   "source": [
    "isinstance(axdict, plt.Axes)"
   ],
   "metadata": {
    "collapsed": false,
    "ExecuteTime": {
     "start_time": "2024-01-27T00:02:41.761796819Z"
    }
   }
  },
  {
   "cell_type": "code",
   "execution_count": null,
   "outputs": [],
   "source": [
    "plot_df.query(\"gene_name == 'ets-4'\")"
   ],
   "metadata": {
    "collapsed": false,
    "ExecuteTime": {
     "start_time": "2024-01-27T00:02:41.761890162Z"
    }
   }
  },
  {
   "cell_type": "code",
   "execution_count": null,
   "outputs": [],
   "source": [
    "reads_df_genes.query(\"gene_name == 'ets-4'\")"
   ],
   "metadata": {
    "collapsed": false,
    "ExecuteTime": {
     "start_time": "2024-01-27T00:02:41.761993565Z"
    }
   }
  },
  {
   "cell_type": "code",
   "execution_count": null,
   "outputs": [],
   "source": [],
   "metadata": {
    "collapsed": false,
    "ExecuteTime": {
     "start_time": "2024-01-27T00:02:41.762094348Z"
    }
   }
  }
 ],
 "metadata": {
  "kernelspec": {
   "display_name": "Python 3",
   "language": "python",
   "name": "python3"
  },
  "language_info": {
   "codemirror_mode": {
    "name": "ipython",
    "version": 2
   },
   "file_extension": ".py",
   "mimetype": "text/x-python",
   "name": "python",
   "nbconvert_exporter": "python",
   "pygments_lexer": "ipython2",
   "version": "2.7.6"
  }
 },
 "nbformat": 4,
 "nbformat_minor": 0
}
