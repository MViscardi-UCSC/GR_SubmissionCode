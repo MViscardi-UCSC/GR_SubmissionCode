{
 "cells": [
  {
   "cell_type": "code",
   "id": "initial_id",
   "metadata": {
    "collapsed": true
   },
   "source": [
    "import pandas as pd\n",
    "from pathlib import Path\n",
    "import nanoporePipelineCommon as npCommon\n",
    "\n",
    "from icecream import ic\n",
    "from datetime import datetime\n",
    "\n",
    "def __time_formatter__():\n",
    "    now = datetime.now().strftime(\"%Y-%m-%d %H:%M:%S\")\n",
    "    return f\"ic: {now} | > \"\n",
    "ic.configureOutput(prefix=__time_formatter__)\n",
    "\n",
    "\n",
    "ic(\"Imports done.\")\n",
    "working_dir = Path.cwd()\n",
    "_ = ic(working_dir)"
   ],
   "outputs": [],
   "execution_count": null
  },
  {
   "cell_type": "code",
   "source": [
    "read_hits_path = working_dir / \"read_hits.tsv\"\n",
    "read_hits = pd.read_csv(read_hits_path, sep=\"\\t\")\n",
    "_ = ic(read_hits.head())"
   ],
   "metadata": {
    "collapsed": false
   },
   "id": "794ac07ca37cabac",
   "outputs": [],
   "execution_count": null
  },
  {
   "cell_type": "code",
   "source": [
    "print(read_hits[read_hits['gene_id'].isin(['WBGene00012179', 'WBGene00004451'])])"
   ],
   "metadata": {
    "collapsed": false
   },
   "id": "ef3260a755165dc2",
   "outputs": [],
   "execution_count": null
  },
  {
   "cell_type": "code",
   "source": [],
   "metadata": {
    "collapsed": false
   },
   "id": "45c9eac1e386366",
   "outputs": [],
   "execution_count": null
  }
 ],
 "metadata": {
  "kernelspec": {
   "display_name": "Python 3",
   "language": "python",
   "name": "python3"
  },
  "language_info": {
   "codemirror_mode": {
    "name": "ipython",
    "version": 2
   },
   "file_extension": ".py",
   "mimetype": "text/x-python",
   "name": "python",
   "nbconvert_exporter": "python",
   "pygments_lexer": "ipython2",
   "version": "2.7.6"
  }
 },
 "nbformat": 4,
 "nbformat_minor": 5
}
